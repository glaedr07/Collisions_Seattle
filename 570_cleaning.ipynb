{
 "cells": [
  {
   "cell_type": "code",
   "execution_count": 24,
   "id": "438da914",
   "metadata": {},
   "outputs": [],
   "source": [
    "import pandas as pd\n",
    "import copy\n",
    "collisions_raw = pd.read_csv('data/SDOT_Collisions_-_All_Years.csv', low_memory=False)\n",
    "intersections_raw = pd.read_csv('data/Intersections.csv')\n",
    "traffic_signals_raw = pd.read_csv('data/Traffic_Signals.csv')\n",
    "poles_raw = pd.read_csv('data/Seattle_City_Light_Poles.csv')\n",
    "streets_raw = pd.read_csv('data/Seattle_Streets.csv')\n",
    "signs_raw = pd.read_csv('data/Street_Signs.csv', low_memory=False)"
   ]
  },
  {
   "cell_type": "code",
   "execution_count": 4,
   "id": "06729d60",
   "metadata": {
    "scrolled": true
   },
   "outputs": [
    {
     "data": {
      "text/html": [
       "<div>\n",
       "<style scoped>\n",
       "    .dataframe tbody tr th:only-of-type {\n",
       "        vertical-align: middle;\n",
       "    }\n",
       "\n",
       "    .dataframe tbody tr th {\n",
       "        vertical-align: top;\n",
       "    }\n",
       "\n",
       "    .dataframe thead th {\n",
       "        text-align: right;\n",
       "    }\n",
       "</style>\n",
       "<table border=\"1\" class=\"dataframe\">\n",
       "  <thead>\n",
       "    <tr style=\"text-align: right;\">\n",
       "      <th></th>\n",
       "      <th>X</th>\n",
       "      <th>Y</th>\n",
       "      <th>OBJECTID</th>\n",
       "      <th>INCKEY</th>\n",
       "      <th>COLDETKEY</th>\n",
       "      <th>ADDRTYPE</th>\n",
       "      <th>COLLISIONTYPE</th>\n",
       "      <th>EXCEPTRSNCODE</th>\n",
       "      <th>EXCEPTRSNDESC</th>\n",
       "      <th>FATALITIES</th>\n",
       "      <th>...</th>\n",
       "      <th>MODBY</th>\n",
       "      <th>MODDTTM</th>\n",
       "      <th>ST_PARTCPNT_TYPE</th>\n",
       "      <th>ST_PARTCPNT_TYPE_DESC</th>\n",
       "      <th>ST_AGE</th>\n",
       "      <th>ST_CITED</th>\n",
       "      <th>ST_VEH_TYPE_CD</th>\n",
       "      <th>ST_VEH_TYPE_DESC</th>\n",
       "      <th>ST_INJRY_CLSS_DESC</th>\n",
       "      <th>GlobalID</th>\n",
       "    </tr>\n",
       "  </thead>\n",
       "  <tbody>\n",
       "    <tr>\n",
       "      <th>0</th>\n",
       "      <td>-122.337544</td>\n",
       "      <td>47.606122</td>\n",
       "      <td>1</td>\n",
       "      <td>343654</td>\n",
       "      <td>345154</td>\n",
       "      <td>Intersection</td>\n",
       "      <td>NaN</td>\n",
       "      <td>NaN</td>\n",
       "      <td>NaN</td>\n",
       "      <td>0</td>\n",
       "      <td>...</td>\n",
       "      <td>NaN</td>\n",
       "      <td>NaN</td>\n",
       "      <td>NaN</td>\n",
       "      <td>NaN</td>\n",
       "      <td>NaN</td>\n",
       "      <td>NaN</td>\n",
       "      <td>NaN</td>\n",
       "      <td>NaN</td>\n",
       "      <td>NaN</td>\n",
       "      <td>a884beac-dbdb-415d-aad2-491b223e1be6</td>\n",
       "    </tr>\n",
       "    <tr>\n",
       "      <th>1</th>\n",
       "      <td>-122.305737</td>\n",
       "      <td>47.696230</td>\n",
       "      <td>2</td>\n",
       "      <td>349795</td>\n",
       "      <td>351275</td>\n",
       "      <td>Intersection</td>\n",
       "      <td>Rear Ended</td>\n",
       "      <td>NaN</td>\n",
       "      <td>NaN</td>\n",
       "      <td>0</td>\n",
       "      <td>...</td>\n",
       "      <td>STATE INTERFACE</td>\n",
       "      <td>2022/08/03 00:00:00+00</td>\n",
       "      <td>NaN</td>\n",
       "      <td>NaN</td>\n",
       "      <td>NaN</td>\n",
       "      <td>NaN</td>\n",
       "      <td>NaN</td>\n",
       "      <td>NaN</td>\n",
       "      <td>NaN</td>\n",
       "      <td>152007b0-7968-460a-9e9c-60d4a995e009</td>\n",
       "    </tr>\n",
       "    <tr>\n",
       "      <th>2</th>\n",
       "      <td>-122.365903</td>\n",
       "      <td>47.519193</td>\n",
       "      <td>3</td>\n",
       "      <td>343623</td>\n",
       "      <td>345123</td>\n",
       "      <td>Intersection</td>\n",
       "      <td>Other</td>\n",
       "      <td>NaN</td>\n",
       "      <td>NaN</td>\n",
       "      <td>0</td>\n",
       "      <td>...</td>\n",
       "      <td>STATE INTERFACE</td>\n",
       "      <td>2022/05/11 00:00:00+00</td>\n",
       "      <td>NaN</td>\n",
       "      <td>NaN</td>\n",
       "      <td>NaN</td>\n",
       "      <td>NaN</td>\n",
       "      <td>NaN</td>\n",
       "      <td>NaN</td>\n",
       "      <td>NaN</td>\n",
       "      <td>3441c2be-fcaf-460a-8526-e5bcba549c43</td>\n",
       "    </tr>\n",
       "  </tbody>\n",
       "</table>\n",
       "<p>3 rows × 54 columns</p>\n",
       "</div>"
      ],
      "text/plain": [
       "            X          Y  OBJECTID  INCKEY  COLDETKEY      ADDRTYPE  \\\n",
       "0 -122.337544  47.606122         1  343654     345154  Intersection   \n",
       "1 -122.305737  47.696230         2  349795     351275  Intersection   \n",
       "2 -122.365903  47.519193         3  343623     345123  Intersection   \n",
       "\n",
       "  COLLISIONTYPE EXCEPTRSNCODE EXCEPTRSNDESC  FATALITIES  ...            MODBY  \\\n",
       "0           NaN           NaN           NaN           0  ...              NaN   \n",
       "1    Rear Ended           NaN           NaN           0  ...  STATE INTERFACE   \n",
       "2         Other           NaN           NaN           0  ...  STATE INTERFACE   \n",
       "\n",
       "                  MODDTTM ST_PARTCPNT_TYPE  ST_PARTCPNT_TYPE_DESC  ST_AGE  \\\n",
       "0                     NaN              NaN                    NaN     NaN   \n",
       "1  2022/08/03 00:00:00+00              NaN                    NaN     NaN   \n",
       "2  2022/05/11 00:00:00+00              NaN                    NaN     NaN   \n",
       "\n",
       "  ST_CITED ST_VEH_TYPE_CD ST_VEH_TYPE_DESC  ST_INJRY_CLSS_DESC  \\\n",
       "0      NaN            NaN              NaN                 NaN   \n",
       "1      NaN            NaN              NaN                 NaN   \n",
       "2      NaN            NaN              NaN                 NaN   \n",
       "\n",
       "                               GlobalID  \n",
       "0  a884beac-dbdb-415d-aad2-491b223e1be6  \n",
       "1  152007b0-7968-460a-9e9c-60d4a995e009  \n",
       "2  3441c2be-fcaf-460a-8526-e5bcba549c43  \n",
       "\n",
       "[3 rows x 54 columns]"
      ]
     },
     "execution_count": 4,
     "metadata": {},
     "output_type": "execute_result"
    }
   ],
   "source": [
    "collisions_raw.head(3)"
   ]
  },
  {
   "cell_type": "code",
   "execution_count": 215,
   "id": "591ac16a",
   "metadata": {
    "scrolled": true
   },
   "outputs": [
    {
     "data": {
      "text/html": [
       "<div>\n",
       "<style scoped>\n",
       "    .dataframe tbody tr th:only-of-type {\n",
       "        vertical-align: middle;\n",
       "    }\n",
       "\n",
       "    .dataframe tbody tr th {\n",
       "        vertical-align: top;\n",
       "    }\n",
       "\n",
       "    .dataframe thead th {\n",
       "        text-align: right;\n",
       "    }\n",
       "</style>\n",
       "<table border=\"1\" class=\"dataframe\">\n",
       "  <thead>\n",
       "    <tr style=\"text-align: right;\">\n",
       "      <th></th>\n",
       "      <th>X</th>\n",
       "      <th>Y</th>\n",
       "      <th>OBJECTID</th>\n",
       "      <th>INTR_ID</th>\n",
       "      <th>GIS_XCOORD</th>\n",
       "      <th>GIS_YCOORD</th>\n",
       "      <th>COMPKEY</th>\n",
       "      <th>COMPTYPE</th>\n",
       "      <th>UNITID</th>\n",
       "      <th>SUBAREA</th>\n",
       "      <th>UNITDESC</th>\n",
       "      <th>ARTERIALCLASSCD</th>\n",
       "      <th>SIGNAL_MAINT_DIST</th>\n",
       "      <th>SIGNAL_TYPE</th>\n",
       "      <th>SHAPE_LNG</th>\n",
       "      <th>SHAPE_LAT</th>\n",
       "      <th>GlobalID</th>\n",
       "    </tr>\n",
       "  </thead>\n",
       "  <tbody>\n",
       "    <tr>\n",
       "      <th>0</th>\n",
       "      <td>-122.329732</td>\n",
       "      <td>47.523051</td>\n",
       "      <td>1</td>\n",
       "      <td>18213</td>\n",
       "      <td>1.270709e+06</td>\n",
       "      <td>194387.95532</td>\n",
       "      <td>340313</td>\n",
       "      <td>13</td>\n",
       "      <td>78852</td>\n",
       "      <td>GRDWM</td>\n",
       "      <td>4TH AVE S AND S HENDERSON N ST</td>\n",
       "      <td>0.0</td>\n",
       "      <td></td>\n",
       "      <td>NONE</td>\n",
       "      <td>-122.329732</td>\n",
       "      <td>47.523051</td>\n",
       "      <td>{131F1B2A-24C8-4CE8-BC3F-B782886C5B05}</td>\n",
       "    </tr>\n",
       "    <tr>\n",
       "      <th>1</th>\n",
       "      <td>-122.371401</td>\n",
       "      <td>47.692058</td>\n",
       "      <td>2</td>\n",
       "      <td>4716</td>\n",
       "      <td>1.261648e+06</td>\n",
       "      <td>256226.49721</td>\n",
       "      <td>37264</td>\n",
       "      <td>13</td>\n",
       "      <td>231740</td>\n",
       "      <td>BLRD</td>\n",
       "      <td>12TH AVE NW AND NW 87TH ST</td>\n",
       "      <td>0.0</td>\n",
       "      <td></td>\n",
       "      <td>NONE</td>\n",
       "      <td>-122.371401</td>\n",
       "      <td>47.692058</td>\n",
       "      <td>{548699BC-E857-4144-BCE9-780682AB3918}</td>\n",
       "    </tr>\n",
       "    <tr>\n",
       "      <th>2</th>\n",
       "      <td>-122.289176</td>\n",
       "      <td>47.617639</td>\n",
       "      <td>3</td>\n",
       "      <td>11483</td>\n",
       "      <td>1.281381e+06</td>\n",
       "      <td>228692.21187</td>\n",
       "      <td>30231</td>\n",
       "      <td>13</td>\n",
       "      <td>42513</td>\n",
       "      <td>CNTRL</td>\n",
       "      <td>34TH AVE AND E HOWELL ST</td>\n",
       "      <td>3.0</td>\n",
       "      <td></td>\n",
       "      <td>NONE</td>\n",
       "      <td>-122.289176</td>\n",
       "      <td>47.617639</td>\n",
       "      <td>{6BE86534-31C1-4073-83E8-1376972B6844}</td>\n",
       "    </tr>\n",
       "  </tbody>\n",
       "</table>\n",
       "</div>"
      ],
      "text/plain": [
       "            X          Y  OBJECTID  INTR_ID    GIS_XCOORD    GIS_YCOORD  \\\n",
       "0 -122.329732  47.523051         1    18213  1.270709e+06  194387.95532   \n",
       "1 -122.371401  47.692058         2     4716  1.261648e+06  256226.49721   \n",
       "2 -122.289176  47.617639         3    11483  1.281381e+06  228692.21187   \n",
       "\n",
       "   COMPKEY  COMPTYPE  UNITID SUBAREA                        UNITDESC  \\\n",
       "0   340313        13   78852   GRDWM  4TH AVE S AND S HENDERSON N ST   \n",
       "1    37264        13  231740    BLRD      12TH AVE NW AND NW 87TH ST   \n",
       "2    30231        13   42513   CNTRL        34TH AVE AND E HOWELL ST   \n",
       "\n",
       "   ARTERIALCLASSCD SIGNAL_MAINT_DIST SIGNAL_TYPE   SHAPE_LNG  SHAPE_LAT  \\\n",
       "0              0.0                          NONE -122.329732  47.523051   \n",
       "1              0.0                          NONE -122.371401  47.692058   \n",
       "2              3.0                          NONE -122.289176  47.617639   \n",
       "\n",
       "                                 GlobalID  \n",
       "0  {131F1B2A-24C8-4CE8-BC3F-B782886C5B05}  \n",
       "1  {548699BC-E857-4144-BCE9-780682AB3918}  \n",
       "2  {6BE86534-31C1-4073-83E8-1376972B6844}  "
      ]
     },
     "execution_count": 215,
     "metadata": {},
     "output_type": "execute_result"
    }
   ],
   "source": [
    "intersections_raw.head(3)"
   ]
  },
  {
   "cell_type": "code",
   "execution_count": 216,
   "id": "1bc292e5",
   "metadata": {
    "scrolled": true
   },
   "outputs": [
    {
     "data": {
      "text/html": [
       "<div>\n",
       "<style scoped>\n",
       "    .dataframe tbody tr th:only-of-type {\n",
       "        vertical-align: middle;\n",
       "    }\n",
       "\n",
       "    .dataframe tbody tr th {\n",
       "        vertical-align: top;\n",
       "    }\n",
       "\n",
       "    .dataframe thead th {\n",
       "        text-align: right;\n",
       "    }\n",
       "</style>\n",
       "<table border=\"1\" class=\"dataframe\">\n",
       "  <thead>\n",
       "    <tr style=\"text-align: right;\">\n",
       "      <th></th>\n",
       "      <th>OBJECTID</th>\n",
       "      <th>COMPKEY</th>\n",
       "      <th>COMPTYPE</th>\n",
       "      <th>UNITID</th>\n",
       "      <th>DESCRIPTION</th>\n",
       "      <th>UNITDESC</th>\n",
       "      <th>SEGKEY</th>\n",
       "      <th>INTKEY</th>\n",
       "      <th>INT_UNITID</th>\n",
       "      <th>SIGNAL_TYPE</th>\n",
       "      <th>...</th>\n",
       "      <th>PE_MODELTYPE</th>\n",
       "      <th>PI_MODELTYPE</th>\n",
       "      <th>INSTALLERCD</th>\n",
       "      <th>JOINTOWNERSHIPYN</th>\n",
       "      <th>CO_MODELTYPE</th>\n",
       "      <th>MMUMANCD</th>\n",
       "      <th>MMUINSTALLDT</th>\n",
       "      <th>LASTSIGNALOPTDT</th>\n",
       "      <th>PEDPSHINSTALLDT</th>\n",
       "      <th>NUM_ATTACHMENTS</th>\n",
       "    </tr>\n",
       "  </thead>\n",
       "  <tbody>\n",
       "    <tr>\n",
       "      <th>0</th>\n",
       "      <td>1</td>\n",
       "      <td>272766</td>\n",
       "      <td>74</td>\n",
       "      <td>SGL-93</td>\n",
       "      <td>NaN</td>\n",
       "      <td>4TH AVE AND PINE ST                           ...</td>\n",
       "      <td>1</td>\n",
       "      <td>29579</td>\n",
       "      <td>39304</td>\n",
       "      <td>PRE</td>\n",
       "      <td>...</td>\n",
       "      <td>NaN</td>\n",
       "      <td>NaN</td>\n",
       "      <td></td>\n",
       "      <td>Y</td>\n",
       "      <td>M34, M60-ATC, M60, M60</td>\n",
       "      <td>EDI</td>\n",
       "      <td>2022/03/12 00:00:00+00</td>\n",
       "      <td>NaN</td>\n",
       "      <td>NaN</td>\n",
       "      <td>0</td>\n",
       "    </tr>\n",
       "    <tr>\n",
       "      <th>1</th>\n",
       "      <td>2</td>\n",
       "      <td>272780</td>\n",
       "      <td>74</td>\n",
       "      <td>SGL-26</td>\n",
       "      <td>NaN</td>\n",
       "      <td>5TH AVE S AND S MAIN ST                       ...</td>\n",
       "      <td>1</td>\n",
       "      <td>30501</td>\n",
       "      <td>44533</td>\n",
       "      <td>PRE</td>\n",
       "      <td>...</td>\n",
       "      <td>NaN</td>\n",
       "      <td>NaN</td>\n",
       "      <td></td>\n",
       "      <td>Y</td>\n",
       "      <td>M34,  , M60-ATC</td>\n",
       "      <td>TCT</td>\n",
       "      <td>2022/03/16 00:00:00+00</td>\n",
       "      <td>NaN</td>\n",
       "      <td>NaN</td>\n",
       "      <td>0</td>\n",
       "    </tr>\n",
       "    <tr>\n",
       "      <th>2</th>\n",
       "      <td>3</td>\n",
       "      <td>272795</td>\n",
       "      <td>74</td>\n",
       "      <td>SGL-950</td>\n",
       "      <td>NaN</td>\n",
       "      <td>23RD AVE AND E ALDER ST                       ...</td>\n",
       "      <td>1</td>\n",
       "      <td>30102</td>\n",
       "      <td>41362</td>\n",
       "      <td>SEMI</td>\n",
       "      <td>...</td>\n",
       "      <td>NaN</td>\n",
       "      <td>NaN</td>\n",
       "      <td>SDOT</td>\n",
       "      <td>N</td>\n",
       "      <td>M34, M34, M52</td>\n",
       "      <td>EDI</td>\n",
       "      <td>2022/04/28 00:00:00+00</td>\n",
       "      <td>NaN</td>\n",
       "      <td>2016/03/10 00:00:00+00</td>\n",
       "      <td>0</td>\n",
       "    </tr>\n",
       "  </tbody>\n",
       "</table>\n",
       "<p>3 rows × 63 columns</p>\n",
       "</div>"
      ],
      "text/plain": [
       "   OBJECTID  COMPKEY  COMPTYPE   UNITID  DESCRIPTION  \\\n",
       "0         1   272766        74   SGL-93          NaN   \n",
       "1         2   272780        74   SGL-26          NaN   \n",
       "2         3   272795        74  SGL-950          NaN   \n",
       "\n",
       "                                            UNITDESC  SEGKEY  INTKEY  \\\n",
       "0  4TH AVE AND PINE ST                           ...       1   29579   \n",
       "1  5TH AVE S AND S MAIN ST                       ...       1   30501   \n",
       "2  23RD AVE AND E ALDER ST                       ...       1   30102   \n",
       "\n",
       "  INT_UNITID SIGNAL_TYPE  ... PE_MODELTYPE PI_MODELTYPE INSTALLERCD  \\\n",
       "0      39304         PRE  ...          NaN          NaN               \n",
       "1      44533         PRE  ...          NaN          NaN               \n",
       "2      41362        SEMI  ...          NaN          NaN        SDOT   \n",
       "\n",
       "  JOINTOWNERSHIPYN            CO_MODELTYPE MMUMANCD            MMUINSTALLDT  \\\n",
       "0                Y  M34, M60-ATC, M60, M60      EDI  2022/03/12 00:00:00+00   \n",
       "1                Y         M34,  , M60-ATC      TCT  2022/03/16 00:00:00+00   \n",
       "2                N           M34, M34, M52      EDI  2022/04/28 00:00:00+00   \n",
       "\n",
       "  LASTSIGNALOPTDT         PEDPSHINSTALLDT  NUM_ATTACHMENTS  \n",
       "0             NaN                     NaN                0  \n",
       "1             NaN                     NaN                0  \n",
       "2             NaN  2016/03/10 00:00:00+00                0  \n",
       "\n",
       "[3 rows x 63 columns]"
      ]
     },
     "execution_count": 216,
     "metadata": {},
     "output_type": "execute_result"
    }
   ],
   "source": [
    "traffic_signals_raw.head(3)"
   ]
  },
  {
   "cell_type": "code",
   "execution_count": 217,
   "id": "3bd7182e",
   "metadata": {
    "scrolled": false
   },
   "outputs": [
    {
     "data": {
      "text/html": [
       "<div>\n",
       "<style scoped>\n",
       "    .dataframe tbody tr th:only-of-type {\n",
       "        vertical-align: middle;\n",
       "    }\n",
       "\n",
       "    .dataframe tbody tr th {\n",
       "        vertical-align: top;\n",
       "    }\n",
       "\n",
       "    .dataframe thead th {\n",
       "        text-align: right;\n",
       "    }\n",
       "</style>\n",
       "<table border=\"1\" class=\"dataframe\">\n",
       "  <thead>\n",
       "    <tr style=\"text-align: right;\">\n",
       "      <th></th>\n",
       "      <th>X</th>\n",
       "      <th>Y</th>\n",
       "      <th>OBJECTID</th>\n",
       "      <th>ASSET_ID</th>\n",
       "      <th>HEIGHT</th>\n",
       "      <th>STREETLIGHT</th>\n",
       "      <th>SCL_SOURCE</th>\n",
       "      <th>PULLDATE</th>\n",
       "      <th>DDLAT</th>\n",
       "      <th>DDLON</th>\n",
       "      <th>FACILITY_NAME</th>\n",
       "    </tr>\n",
       "  </thead>\n",
       "  <tbody>\n",
       "    <tr>\n",
       "      <th>0</th>\n",
       "      <td>-122.358591</td>\n",
       "      <td>47.628758</td>\n",
       "      <td>1</td>\n",
       "      <td>1406079.0</td>\n",
       "      <td>19</td>\n",
       "      <td>YES</td>\n",
       "      <td>Distribution</td>\n",
       "      <td>2018/12/04 00:00:00+00</td>\n",
       "      <td>47.62876</td>\n",
       "      <td>-122.35859</td>\n",
       "      <td>005NEO150</td>\n",
       "    </tr>\n",
       "    <tr>\n",
       "      <th>1</th>\n",
       "      <td>-122.359814</td>\n",
       "      <td>47.632261</td>\n",
       "      <td>2</td>\n",
       "      <td>1350215.0</td>\n",
       "      <td>35</td>\n",
       "      <td>NO</td>\n",
       "      <td>Distribution</td>\n",
       "      <td>2018/12/04 00:00:00+00</td>\n",
       "      <td>47.63226</td>\n",
       "      <td>-122.35981</td>\n",
       "      <td>005NEO134</td>\n",
       "    </tr>\n",
       "    <tr>\n",
       "      <th>2</th>\n",
       "      <td>-122.363536</td>\n",
       "      <td>47.626674</td>\n",
       "      <td>3</td>\n",
       "      <td>1350124.0</td>\n",
       "      <td>35</td>\n",
       "      <td>NO</td>\n",
       "      <td>Distribution</td>\n",
       "      <td>2018/12/04 00:00:00+00</td>\n",
       "      <td>47.62667</td>\n",
       "      <td>-122.36354</td>\n",
       "      <td>005NEO459</td>\n",
       "    </tr>\n",
       "  </tbody>\n",
       "</table>\n",
       "</div>"
      ],
      "text/plain": [
       "            X          Y  OBJECTID   ASSET_ID  HEIGHT STREETLIGHT  \\\n",
       "0 -122.358591  47.628758         1  1406079.0      19         YES   \n",
       "1 -122.359814  47.632261         2  1350215.0      35          NO   \n",
       "2 -122.363536  47.626674         3  1350124.0      35          NO   \n",
       "\n",
       "     SCL_SOURCE                PULLDATE     DDLAT      DDLON FACILITY_NAME  \n",
       "0  Distribution  2018/12/04 00:00:00+00  47.62876 -122.35859     005NEO150  \n",
       "1  Distribution  2018/12/04 00:00:00+00  47.63226 -122.35981     005NEO134  \n",
       "2  Distribution  2018/12/04 00:00:00+00  47.62667 -122.36354     005NEO459  "
      ]
     },
     "execution_count": 217,
     "metadata": {},
     "output_type": "execute_result"
    }
   ],
   "source": [
    "poles_raw.head(3)"
   ]
  },
  {
   "cell_type": "code",
   "execution_count": 218,
   "id": "caf78eec",
   "metadata": {
    "scrolled": true
   },
   "outputs": [
    {
     "data": {
      "text/html": [
       "<div>\n",
       "<style scoped>\n",
       "    .dataframe tbody tr th:only-of-type {\n",
       "        vertical-align: middle;\n",
       "    }\n",
       "\n",
       "    .dataframe tbody tr th {\n",
       "        vertical-align: top;\n",
       "    }\n",
       "\n",
       "    .dataframe thead th {\n",
       "        text-align: right;\n",
       "    }\n",
       "</style>\n",
       "<table border=\"1\" class=\"dataframe\">\n",
       "  <thead>\n",
       "    <tr style=\"text-align: right;\">\n",
       "      <th></th>\n",
       "      <th>OBJECTID</th>\n",
       "      <th>ARTCLASS</th>\n",
       "      <th>COMPKEY</th>\n",
       "      <th>UNITID</th>\n",
       "      <th>UNITID2</th>\n",
       "      <th>UNITIDSORT</th>\n",
       "      <th>UNITDESC</th>\n",
       "      <th>STNAME_ORD</th>\n",
       "      <th>XSTRLO</th>\n",
       "      <th>XSTRHI</th>\n",
       "      <th>...</th>\n",
       "      <th>NATIONHWYSYS</th>\n",
       "      <th>STREETTYPE</th>\n",
       "      <th>PVMTCONDINDX1</th>\n",
       "      <th>PVMTCONDINDX2</th>\n",
       "      <th>TRANCLASS</th>\n",
       "      <th>TRANDESCRIPT</th>\n",
       "      <th>SLOPE_PCT</th>\n",
       "      <th>PVMTCATEGORY</th>\n",
       "      <th>PARKBOULEVARD</th>\n",
       "      <th>SHAPE_Length</th>\n",
       "    </tr>\n",
       "  </thead>\n",
       "  <tbody>\n",
       "    <tr>\n",
       "      <th>0</th>\n",
       "      <td>1</td>\n",
       "      <td>2.0</td>\n",
       "      <td>1006</td>\n",
       "      <td>10.0</td>\n",
       "      <td>120.0</td>\n",
       "      <td>100120.0</td>\n",
       "      <td>1ST AVE BETWEEN SENECA ST AND UNIVERSITY ST</td>\n",
       "      <td>1ST AVE</td>\n",
       "      <td>SENECA ST</td>\n",
       "      <td>UNIVERSITY ST</td>\n",
       "      <td>...</td>\n",
       "      <td>N</td>\n",
       "      <td>Downtown Neighborhood</td>\n",
       "      <td>87.0</td>\n",
       "      <td>62.0</td>\n",
       "      <td>1</td>\n",
       "      <td>PRINCIPAL TRANSIT ROUTE</td>\n",
       "      <td>4.0</td>\n",
       "      <td>ART</td>\n",
       "      <td>N</td>\n",
       "      <td>305.966050</td>\n",
       "    </tr>\n",
       "    <tr>\n",
       "      <th>1</th>\n",
       "      <td>2</td>\n",
       "      <td>2.0</td>\n",
       "      <td>1009</td>\n",
       "      <td>10.0</td>\n",
       "      <td>150.0</td>\n",
       "      <td>100150.0</td>\n",
       "      <td>1ST AVE BETWEEN PIKE ST AND PINE ST</td>\n",
       "      <td>1ST AVE</td>\n",
       "      <td>PIKE ST</td>\n",
       "      <td>PINE ST</td>\n",
       "      <td>...</td>\n",
       "      <td>N</td>\n",
       "      <td>Downtown Neighborhood</td>\n",
       "      <td>57.0</td>\n",
       "      <td>58.0</td>\n",
       "      <td>1</td>\n",
       "      <td>PRINCIPAL TRANSIT ROUTE</td>\n",
       "      <td>5.0</td>\n",
       "      <td>ART</td>\n",
       "      <td>N</td>\n",
       "      <td>426.031562</td>\n",
       "    </tr>\n",
       "    <tr>\n",
       "      <th>2</th>\n",
       "      <td>3</td>\n",
       "      <td>0.0</td>\n",
       "      <td>1032</td>\n",
       "      <td>15.0</td>\n",
       "      <td>80.0</td>\n",
       "      <td>150080.0</td>\n",
       "      <td>1ST AVE N BETWEEN VALLEY UPPER ST AND ALOHA ST</td>\n",
       "      <td>1ST AVE N</td>\n",
       "      <td>VALLEY UPPER ST</td>\n",
       "      <td>ALOHA ST</td>\n",
       "      <td>...</td>\n",
       "      <td>N</td>\n",
       "      <td>Neighborhood Yield Street</td>\n",
       "      <td>0.0</td>\n",
       "      <td>0.0</td>\n",
       "      <td>0</td>\n",
       "      <td>NOT DESIGNATED</td>\n",
       "      <td>17.0</td>\n",
       "      <td>NON-ART</td>\n",
       "      <td>N</td>\n",
       "      <td>297.147592</td>\n",
       "    </tr>\n",
       "  </tbody>\n",
       "</table>\n",
       "<p>3 rows × 38 columns</p>\n",
       "</div>"
      ],
      "text/plain": [
       "   OBJECTID  ARTCLASS  COMPKEY  UNITID  UNITID2  UNITIDSORT  \\\n",
       "0         1       2.0     1006    10.0    120.0    100120.0   \n",
       "1         2       2.0     1009    10.0    150.0    100150.0   \n",
       "2         3       0.0     1032    15.0     80.0    150080.0   \n",
       "\n",
       "                                         UNITDESC STNAME_ORD           XSTRLO  \\\n",
       "0     1ST AVE BETWEEN SENECA ST AND UNIVERSITY ST    1ST AVE        SENECA ST   \n",
       "1             1ST AVE BETWEEN PIKE ST AND PINE ST    1ST AVE          PIKE ST   \n",
       "2  1ST AVE N BETWEEN VALLEY UPPER ST AND ALOHA ST  1ST AVE N  VALLEY UPPER ST   \n",
       "\n",
       "          XSTRHI  ... NATIONHWYSYS                 STREETTYPE PVMTCONDINDX1  \\\n",
       "0  UNIVERSITY ST  ...            N      Downtown Neighborhood          87.0   \n",
       "1        PINE ST  ...            N      Downtown Neighborhood          57.0   \n",
       "2       ALOHA ST  ...            N  Neighborhood Yield Street           0.0   \n",
       "\n",
       "   PVMTCONDINDX2  TRANCLASS             TRANDESCRIPT SLOPE_PCT PVMTCATEGORY  \\\n",
       "0           62.0          1  PRINCIPAL TRANSIT ROUTE       4.0          ART   \n",
       "1           58.0          1  PRINCIPAL TRANSIT ROUTE       5.0          ART   \n",
       "2            0.0          0           NOT DESIGNATED      17.0      NON-ART   \n",
       "\n",
       "  PARKBOULEVARD  SHAPE_Length  \n",
       "0             N    305.966050  \n",
       "1             N    426.031562  \n",
       "2             N    297.147592  \n",
       "\n",
       "[3 rows x 38 columns]"
      ]
     },
     "execution_count": 218,
     "metadata": {},
     "output_type": "execute_result"
    }
   ],
   "source": [
    "streets_raw.head(3)"
   ]
  },
  {
   "cell_type": "code",
   "execution_count": 26,
   "id": "883cfae5",
   "metadata": {},
   "outputs": [
    {
     "data": {
      "text/html": [
       "<div>\n",
       "<style scoped>\n",
       "    .dataframe tbody tr th:only-of-type {\n",
       "        vertical-align: middle;\n",
       "    }\n",
       "\n",
       "    .dataframe tbody tr th {\n",
       "        vertical-align: top;\n",
       "    }\n",
       "\n",
       "    .dataframe thead th {\n",
       "        text-align: right;\n",
       "    }\n",
       "</style>\n",
       "<table border=\"1\" class=\"dataframe\">\n",
       "  <thead>\n",
       "    <tr style=\"text-align: right;\">\n",
       "      <th></th>\n",
       "      <th>X</th>\n",
       "      <th>Y</th>\n",
       "      <th>OBJECTID</th>\n",
       "      <th>COMPKEY</th>\n",
       "      <th>COMPTYPE</th>\n",
       "      <th>SEGKEY</th>\n",
       "      <th>INTKEY</th>\n",
       "      <th>ELMNTKEY</th>\n",
       "      <th>DISTANCE</th>\n",
       "      <th>WIDTH</th>\n",
       "      <th>...</th>\n",
       "      <th>MODDTTM</th>\n",
       "      <th>INSTDATE</th>\n",
       "      <th>EXPDATE</th>\n",
       "      <th>PRIMARYDISTRICTCD</th>\n",
       "      <th>SECONDARYDISTRICTCD</th>\n",
       "      <th>OVERRIDEYN</th>\n",
       "      <th>OVERRIDECOMMENT</th>\n",
       "      <th>SHAPE_LNG</th>\n",
       "      <th>SHAPE_LAT</th>\n",
       "      <th>MODBY</th>\n",
       "    </tr>\n",
       "  </thead>\n",
       "  <tbody>\n",
       "    <tr>\n",
       "      <th>0</th>\n",
       "      <td>-122.360703</td>\n",
       "      <td>47.625603</td>\n",
       "      <td>1</td>\n",
       "      <td>846432</td>\n",
       "      <td>20</td>\n",
       "      <td>4544</td>\n",
       "      <td>1</td>\n",
       "      <td>72481</td>\n",
       "      <td>367.0</td>\n",
       "      <td>20.0</td>\n",
       "      <td>...</td>\n",
       "      <td>2022/02/22 00:00:00+00</td>\n",
       "      <td>NaN</td>\n",
       "      <td>NaN</td>\n",
       "      <td>DISTRICT7</td>\n",
       "      <td></td>\n",
       "      <td>N</td>\n",
       "      <td>NaN</td>\n",
       "      <td>-122.360703</td>\n",
       "      <td>47.625603</td>\n",
       "      <td>CHOIE</td>\n",
       "    </tr>\n",
       "    <tr>\n",
       "      <th>1</th>\n",
       "      <td>-122.323753</td>\n",
       "      <td>47.612724</td>\n",
       "      <td>2</td>\n",
       "      <td>846211</td>\n",
       "      <td>20</td>\n",
       "      <td>9372</td>\n",
       "      <td>1</td>\n",
       "      <td>54609</td>\n",
       "      <td>259.0</td>\n",
       "      <td>26.0</td>\n",
       "      <td>...</td>\n",
       "      <td>2022/02/16 00:00:00+00</td>\n",
       "      <td>NaN</td>\n",
       "      <td>NaN</td>\n",
       "      <td>DISTRICT3</td>\n",
       "      <td></td>\n",
       "      <td>N</td>\n",
       "      <td>NaN</td>\n",
       "      <td>-122.323753</td>\n",
       "      <td>47.612724</td>\n",
       "      <td>LEIFIJ</td>\n",
       "    </tr>\n",
       "    <tr>\n",
       "      <th>2</th>\n",
       "      <td>-122.362077</td>\n",
       "      <td>47.623343</td>\n",
       "      <td>3</td>\n",
       "      <td>841363</td>\n",
       "      <td>20</td>\n",
       "      <td>23696</td>\n",
       "      <td>1</td>\n",
       "      <td>68773</td>\n",
       "      <td>33.0</td>\n",
       "      <td>-17.0</td>\n",
       "      <td>...</td>\n",
       "      <td>2021/10/25 00:00:00+00</td>\n",
       "      <td>2021/10/06 00:00:00+00</td>\n",
       "      <td>NaN</td>\n",
       "      <td>DISTRICT7</td>\n",
       "      <td></td>\n",
       "      <td>N</td>\n",
       "      <td>NaN</td>\n",
       "      <td>-122.362077</td>\n",
       "      <td>47.623343</td>\n",
       "      <td>CHOIE</td>\n",
       "    </tr>\n",
       "  </tbody>\n",
       "</table>\n",
       "<p>3 rows × 47 columns</p>\n",
       "</div>"
      ],
      "text/plain": [
       "            X          Y  OBJECTID  COMPKEY  COMPTYPE  SEGKEY  INTKEY  \\\n",
       "0 -122.360703  47.625603         1   846432        20    4544       1   \n",
       "1 -122.323753  47.612724         2   846211        20    9372       1   \n",
       "2 -122.362077  47.623343         3   841363        20   23696       1   \n",
       "\n",
       "   ELMNTKEY  DISTANCE  WIDTH  ...                 MODDTTM  \\\n",
       "0     72481     367.0   20.0  ...  2022/02/22 00:00:00+00   \n",
       "1     54609     259.0   26.0  ...  2022/02/16 00:00:00+00   \n",
       "2     68773      33.0  -17.0  ...  2021/10/25 00:00:00+00   \n",
       "\n",
       "                 INSTDATE EXPDATE PRIMARYDISTRICTCD SECONDARYDISTRICTCD  \\\n",
       "0                     NaN     NaN         DISTRICT7                       \n",
       "1                     NaN     NaN         DISTRICT3                       \n",
       "2  2021/10/06 00:00:00+00     NaN         DISTRICT7                       \n",
       "\n",
       "  OVERRIDEYN OVERRIDECOMMENT   SHAPE_LNG  SHAPE_LAT   MODBY  \n",
       "0          N             NaN -122.360703  47.625603   CHOIE  \n",
       "1          N             NaN -122.323753  47.612724  LEIFIJ  \n",
       "2          N             NaN -122.362077  47.623343   CHOIE  \n",
       "\n",
       "[3 rows x 47 columns]"
      ]
     },
     "execution_count": 26,
     "metadata": {},
     "output_type": "execute_result"
    }
   ],
   "source": [
    "signs_raw.head(3)"
   ]
  },
  {
   "cell_type": "markdown",
   "id": "e2134f50",
   "metadata": {},
   "source": [
    "# I. Data Cleaning"
   ]
  },
  {
   "cell_type": "markdown",
   "id": "5dcde516",
   "metadata": {},
   "source": [
    "### The overall strategy of Data Cleanning to make the Intersection inner join with collision as base, and add features to it."
   ]
  },
  {
   "cell_type": "markdown",
   "id": "ae609ed2",
   "metadata": {},
   "source": [
    "#### 1. Make all dataset minimum, and then check NAs"
   ]
  },
  {
   "cell_type": "markdown",
   "id": "b8e44d44",
   "metadata": {},
   "source": [
    "#### Intersections"
   ]
  },
  {
   "cell_type": "code",
   "execution_count": 219,
   "id": "67852175",
   "metadata": {},
   "outputs": [
    {
     "data": {
      "text/html": [
       "<div>\n",
       "<style scoped>\n",
       "    .dataframe tbody tr th:only-of-type {\n",
       "        vertical-align: middle;\n",
       "    }\n",
       "\n",
       "    .dataframe tbody tr th {\n",
       "        vertical-align: top;\n",
       "    }\n",
       "\n",
       "    .dataframe thead th {\n",
       "        text-align: right;\n",
       "    }\n",
       "</style>\n",
       "<table border=\"1\" class=\"dataframe\">\n",
       "  <thead>\n",
       "    <tr style=\"text-align: right;\">\n",
       "      <th></th>\n",
       "      <th>X</th>\n",
       "      <th>Y</th>\n",
       "      <th>UNITDESC</th>\n",
       "      <th>ARTERIALCLASSCD</th>\n",
       "      <th>SIGNAL_TYPE</th>\n",
       "    </tr>\n",
       "  </thead>\n",
       "  <tbody>\n",
       "    <tr>\n",
       "      <th>0</th>\n",
       "      <td>-122.329732</td>\n",
       "      <td>47.523051</td>\n",
       "      <td>4TH AVE S AND S HENDERSON N ST</td>\n",
       "      <td>0.0</td>\n",
       "      <td>NONE</td>\n",
       "    </tr>\n",
       "    <tr>\n",
       "      <th>1</th>\n",
       "      <td>-122.371401</td>\n",
       "      <td>47.692058</td>\n",
       "      <td>12TH AVE NW AND NW 87TH ST</td>\n",
       "      <td>0.0</td>\n",
       "      <td>NONE</td>\n",
       "    </tr>\n",
       "    <tr>\n",
       "      <th>2</th>\n",
       "      <td>-122.289176</td>\n",
       "      <td>47.617639</td>\n",
       "      <td>34TH AVE AND E HOWELL ST</td>\n",
       "      <td>3.0</td>\n",
       "      <td>NONE</td>\n",
       "    </tr>\n",
       "  </tbody>\n",
       "</table>\n",
       "</div>"
      ],
      "text/plain": [
       "            X          Y                        UNITDESC  ARTERIALCLASSCD  \\\n",
       "0 -122.329732  47.523051  4TH AVE S AND S HENDERSON N ST              0.0   \n",
       "1 -122.371401  47.692058      12TH AVE NW AND NW 87TH ST              0.0   \n",
       "2 -122.289176  47.617639        34TH AVE AND E HOWELL ST              3.0   \n",
       "\n",
       "  SIGNAL_TYPE  \n",
       "0        NONE  \n",
       "1        NONE  \n",
       "2        NONE  "
      ]
     },
     "execution_count": 219,
     "metadata": {},
     "output_type": "execute_result"
    }
   ],
   "source": [
    "# for intersections\n",
    "intersections = copy.deepcopy(intersections_raw)\n",
    "intersections = intersections[[\"X\", \"Y\", \"UNITDESC\",\"ARTERIALCLASSCD\",\"SIGNAL_TYPE\"]]\n",
    "intersections.head(3)"
   ]
  },
  {
   "cell_type": "code",
   "execution_count": 220,
   "id": "191ef34d",
   "metadata": {
    "scrolled": true
   },
   "outputs": [
    {
     "name": "stdout",
     "output_type": "stream",
     "text": [
      "Total Rows: 15469\n",
      "X Rows: 15469 NAs: 0\n",
      "Y Rows: 15469 NAs: 0\n",
      "UNITDESC Rows: 15469 NAs: 0\n",
      "ARTERIALCLASSCD Rows: 15454 NAs: 15\n",
      "SIGNAL_TYPE Rows: 15469 NAs: 0\n"
     ]
    }
   ],
   "source": [
    "print(\"Total Rows:\",len(intersections))\n",
    "for column in intersections.columns:\n",
    "    print(column, \"Rows:\", len(intersections[column].dropna()), \"NAs:\", len(intersections[column])-len(intersections[column].dropna()))\n"
   ]
  },
  {
   "cell_type": "code",
   "execution_count": 221,
   "id": "54b22452",
   "metadata": {},
   "outputs": [
    {
     "name": "stdout",
     "output_type": "stream",
     "text": [
      "Unique values in ARTERIALCLASSCD column: [ 0.  3.  1.  2. nan  5.  4.]\n"
     ]
    }
   ],
   "source": [
    "# Checkout ARTERIALCLASSCD\n",
    "#Check what are the unique data store in INATTENTIONIND\n",
    "unique_values = intersections[\"ARTERIALCLASSCD\"].unique()\n",
    "print(\"Unique values in ARTERIALCLASSCD column:\", unique_values)"
   ]
  },
  {
   "cell_type": "code",
   "execution_count": 222,
   "id": "c9913e6f",
   "metadata": {},
   "outputs": [
    {
     "name": "stdout",
     "output_type": "stream",
     "text": [
      "Unique values in ARTERIALCLASSCD column: [0. 3. 1. 2. 5. 4.]\n"
     ]
    }
   ],
   "source": [
    "# change all NAN to 0.0\n",
    "intersections[\"ARTERIALCLASSCD\"].fillna(0.0, inplace=True)\n",
    "unique_values = intersections[\"ARTERIALCLASSCD\"].unique()\n",
    "print(\"Unique values in ARTERIALCLASSCD column:\", unique_values)"
   ]
  },
  {
   "cell_type": "code",
   "execution_count": 223,
   "id": "5a7d62a4",
   "metadata": {},
   "outputs": [
    {
     "name": "stdout",
     "output_type": "stream",
     "text": [
      "Total Rows: 15469\n",
      "X Rows: 15469 NAs: 0\n",
      "Y Rows: 15469 NAs: 0\n",
      "UNITDESC Rows: 15469 NAs: 0\n",
      "ARTERIALCLASSCD Rows: 15469 NAs: 0\n",
      "SIGNAL_TYPE Rows: 15469 NAs: 0\n"
     ]
    }
   ],
   "source": [
    "#Take look at cleaned intersections\n",
    "print(\"Total Rows:\",len(intersections))\n",
    "for column in intersections.columns:\n",
    "    print(column, \"Rows:\", len(intersections[column].dropna()), \"NAs:\", len(intersections[column])-len(intersections[column].dropna()))\n"
   ]
  },
  {
   "cell_type": "markdown",
   "id": "16522f6e",
   "metadata": {},
   "source": [
    "#### collisions"
   ]
  },
  {
   "cell_type": "code",
   "execution_count": 224,
   "id": "3ec4935b",
   "metadata": {},
   "outputs": [
    {
     "data": {
      "text/html": [
       "<div>\n",
       "<style scoped>\n",
       "    .dataframe tbody tr th:only-of-type {\n",
       "        vertical-align: middle;\n",
       "    }\n",
       "\n",
       "    .dataframe tbody tr th {\n",
       "        vertical-align: top;\n",
       "    }\n",
       "\n",
       "    .dataframe thead th {\n",
       "        text-align: right;\n",
       "    }\n",
       "</style>\n",
       "<table border=\"1\" class=\"dataframe\">\n",
       "  <thead>\n",
       "    <tr style=\"text-align: right;\">\n",
       "      <th></th>\n",
       "      <th>X</th>\n",
       "      <th>Y</th>\n",
       "      <th>ADDRTYPE</th>\n",
       "      <th>COLLISIONTYPE</th>\n",
       "      <th>SEVERITYCODE</th>\n",
       "      <th>LIGHTCOND</th>\n",
       "      <th>ROADCOND</th>\n",
       "      <th>SPEEDING</th>\n",
       "      <th>UNDERINFL</th>\n",
       "      <th>INATTENTIONIND</th>\n",
       "    </tr>\n",
       "  </thead>\n",
       "  <tbody>\n",
       "    <tr>\n",
       "      <th>0</th>\n",
       "      <td>-122.337544</td>\n",
       "      <td>47.606122</td>\n",
       "      <td>Intersection</td>\n",
       "      <td>NaN</td>\n",
       "      <td>0</td>\n",
       "      <td>NaN</td>\n",
       "      <td>NaN</td>\n",
       "      <td>NaN</td>\n",
       "      <td>NaN</td>\n",
       "      <td>NaN</td>\n",
       "    </tr>\n",
       "    <tr>\n",
       "      <th>1</th>\n",
       "      <td>-122.305737</td>\n",
       "      <td>47.696230</td>\n",
       "      <td>Intersection</td>\n",
       "      <td>Rear Ended</td>\n",
       "      <td>1</td>\n",
       "      <td>Daylight</td>\n",
       "      <td>Dry</td>\n",
       "      <td>Y</td>\n",
       "      <td>N</td>\n",
       "      <td>NaN</td>\n",
       "    </tr>\n",
       "    <tr>\n",
       "      <th>2</th>\n",
       "      <td>-122.365903</td>\n",
       "      <td>47.519193</td>\n",
       "      <td>Intersection</td>\n",
       "      <td>Other</td>\n",
       "      <td>2</td>\n",
       "      <td>Daylight</td>\n",
       "      <td>Dry</td>\n",
       "      <td>NaN</td>\n",
       "      <td>N</td>\n",
       "      <td>NaN</td>\n",
       "    </tr>\n",
       "  </tbody>\n",
       "</table>\n",
       "</div>"
      ],
      "text/plain": [
       "            X          Y      ADDRTYPE COLLISIONTYPE SEVERITYCODE LIGHTCOND  \\\n",
       "0 -122.337544  47.606122  Intersection           NaN            0       NaN   \n",
       "1 -122.305737  47.696230  Intersection    Rear Ended            1  Daylight   \n",
       "2 -122.365903  47.519193  Intersection         Other            2  Daylight   \n",
       "\n",
       "  ROADCOND SPEEDING UNDERINFL INATTENTIONIND  \n",
       "0      NaN      NaN       NaN            NaN  \n",
       "1      Dry        Y         N            NaN  \n",
       "2      Dry      NaN         N            NaN  "
      ]
     },
     "execution_count": 224,
     "metadata": {},
     "output_type": "execute_result"
    }
   ],
   "source": [
    "# for collisions\n",
    "# Select useful columns\n",
    "collisions = copy.deepcopy(collisions_raw)\n",
    "collisions = collisions[[\"X\", \"Y\",\"ADDRTYPE\",\"COLLISIONTYPE\",\"SEVERITYCODE\",\n",
    "                         \"LIGHTCOND\",\"ROADCOND\",#environments\n",
    "                         \"SPEEDING\",\"UNDERINFL\",\"INATTENTIONIND\"]]#Driver\n",
    "#UNDERINFL: Whether or not a driver involved was under the influence of drugs or alcohol. \n",
    "#INATTENTIONIND: Whether or not collision was due to inattention. (Y/N) \n",
    "collisions.head(3)"
   ]
  },
  {
   "cell_type": "code",
   "execution_count": 225,
   "id": "df88c511",
   "metadata": {
    "scrolled": true
   },
   "outputs": [
    {
     "name": "stdout",
     "output_type": "stream",
     "text": [
      "Total Rows: 241237\n",
      "X Rows: 233364 NAs: 7873\n",
      "Y Rows: 233364 NAs: 7873\n",
      "ADDRTYPE Rows: 237350 NAs: 3887\n",
      "COLLISIONTYPE Rows: 209137 NAs: 32100\n",
      "SEVERITYCODE Rows: 241236 NAs: 1\n",
      "LIGHTCOND Rows: 208806 NAs: 32431\n",
      "ROADCOND Rows: 209012 NAs: 32225\n",
      "SPEEDING Rows: 10873 NAs: 230364\n",
      "UNDERINFL Rows: 209155 NAs: 32082\n",
      "INATTENTIONIND Rows: 30615 NAs: 210622\n"
     ]
    }
   ],
   "source": [
    "print(\"Total Rows:\",len(collisions))\n",
    "for column in collisions.columns:\n",
    "    print(column, \"Rows:\", len(collisions[column].dropna()), \"NAs:\", len(collisions[column])-len(collisions[column].dropna()))\n"
   ]
  },
  {
   "cell_type": "code",
   "execution_count": 226,
   "id": "7377d18d",
   "metadata": {},
   "outputs": [
    {
     "name": "stdout",
     "output_type": "stream",
     "text": [
      "Total Rows: 79829\n",
      "X Rows: 79439 NAs: 390\n",
      "Y Rows: 79439 NAs: 390\n",
      "ADDRTYPE Rows: 79829 NAs: 0\n",
      "COLLISIONTYPE Rows: 72126 NAs: 7703\n",
      "SEVERITYCODE Rows: 79828 NAs: 1\n",
      "LIGHTCOND Rows: 72064 NAs: 7765\n",
      "ROADCOND Rows: 72108 NAs: 7721\n",
      "SPEEDING Rows: 2403 NAs: 77426\n",
      "UNDERINFL Rows: 72140 NAs: 7689\n",
      "INATTENTIONIND Rows: 7768 NAs: 72061\n"
     ]
    }
   ],
   "source": [
    "#Select useful rows\n",
    "#Only Interested in ADDRTYPE == Intersection\n",
    "collisions = collisions[collisions[\"ADDRTYPE\"] == \"Intersection\"]\n",
    "\n",
    "print(\"Total Rows:\",len(collisions))\n",
    "for column in collisions.columns:\n",
    "    print(column, \"Rows:\", len(collisions[column].dropna()), \"NAs:\", len(collisions[column])-len(collisions[column].dropna()))\n"
   ]
  },
  {
   "cell_type": "code",
   "execution_count": 227,
   "id": "bb047166",
   "metadata": {},
   "outputs": [
    {
     "name": "stdout",
     "output_type": "stream",
     "text": [
      "Unique values in INATTENTIONIND column: [nan 'Y']\n"
     ]
    }
   ],
   "source": [
    "#Check what are the unique data store in INATTENTIONIND\n",
    "unique_values = collisions[\"INATTENTIONIND\"].unique()\n",
    "print(\"Unique values in INATTENTIONIND column:\", unique_values)"
   ]
  },
  {
   "cell_type": "code",
   "execution_count": 228,
   "id": "a7008cc2",
   "metadata": {},
   "outputs": [
    {
     "name": "stdout",
     "output_type": "stream",
     "text": [
      "Unique values in INATTENTIONIND column: ['N' 'Y']\n"
     ]
    }
   ],
   "source": [
    "# There are not 'N' in INATTENTIONIND, change all NAN to \"N\"\n",
    "collisions[\"INATTENTIONIND\"].fillna(\"N\", inplace=True)\n",
    "unique_values = collisions[\"INATTENTIONIND\"].unique()\n",
    "print(\"Unique values in INATTENTIONIND column:\", unique_values)"
   ]
  },
  {
   "cell_type": "code",
   "execution_count": 229,
   "id": "3804111e",
   "metadata": {},
   "outputs": [
    {
     "name": "stdout",
     "output_type": "stream",
     "text": [
      "Unique values in UNDERINFL column: [nan 'N' '0' '1' 'Y']\n"
     ]
    }
   ],
   "source": [
    "#Check what are the unique data store in UNDERINFL\n",
    "unique_values = collisions[\"UNDERINFL\"].unique()\n",
    "print(\"Unique values in UNDERINFL column:\", unique_values)"
   ]
  },
  {
   "cell_type": "code",
   "execution_count": 230,
   "id": "fd4e6ec0",
   "metadata": {},
   "outputs": [
    {
     "name": "stdout",
     "output_type": "stream",
     "text": [
      "Unique values in UNDERINFL column: ['N' 'Y']\n"
     ]
    }
   ],
   "source": [
    "# change all NAN and '0' to \"N\", change all '1' to 'Y' \n",
    "collisions[\"UNDERINFL\"].replace({pd.NA: \"N\", '0': \"N\"}, inplace=True)\n",
    "collisions[\"UNDERINFL\"].replace({'1': \"Y\"}, inplace=True)\n",
    "\n",
    "unique_values = collisions[\"UNDERINFL\"].unique()\n",
    "print(\"Unique values in UNDERINFL column:\", unique_values)\n"
   ]
  },
  {
   "cell_type": "code",
   "execution_count": 231,
   "id": "15732ae1",
   "metadata": {},
   "outputs": [
    {
     "name": "stdout",
     "output_type": "stream",
     "text": [
      "Unique values in SPEEDING column: [nan 'Y']\n"
     ]
    }
   ],
   "source": [
    "# Sampe process with speeding\n",
    "unique_values = collisions[\"SPEEDING\"].unique()\n",
    "print(\"Unique values in SPEEDING column:\", unique_values)"
   ]
  },
  {
   "cell_type": "code",
   "execution_count": 232,
   "id": "4e5ecfb4",
   "metadata": {},
   "outputs": [
    {
     "name": "stdout",
     "output_type": "stream",
     "text": [
      "Unique values in SPEEDING column: ['N' 'Y']\n"
     ]
    }
   ],
   "source": [
    "collisions[\"SPEEDING\"].fillna(\"N\", inplace=True)\n",
    "unique_values = collisions[\"SPEEDING\"].unique()\n",
    "print(\"Unique values in SPEEDING column:\", unique_values)"
   ]
  },
  {
   "cell_type": "code",
   "execution_count": 233,
   "id": "ebcdd7fe",
   "metadata": {},
   "outputs": [
    {
     "name": "stdout",
     "output_type": "stream",
     "text": [
      "Unique values in ROADCOND column: [nan 'Dry' 'Wet' 'Unknown' 'Ice' 'Snow/Slush' 'Other' 'Oil'\n",
      " 'Standing Water' 'Sand/Mud/Dirt']\n"
     ]
    }
   ],
   "source": [
    "# Sampe process with ROADCOND\n",
    "unique_values = collisions[\"ROADCOND\"].unique()\n",
    "print(\"Unique values in ROADCOND column:\", unique_values)"
   ]
  },
  {
   "cell_type": "code",
   "execution_count": 234,
   "id": "f7ce4be3",
   "metadata": {},
   "outputs": [
    {
     "name": "stdout",
     "output_type": "stream",
     "text": [
      "Unique values in ROADCOND column: ['Unknown' 'Dry' 'Wet' 'Ice' 'Snow/Slush' 'Other' 'Oil' 'Standing Water'\n",
      " 'Sand/Mud/Dirt']\n"
     ]
    }
   ],
   "source": [
    "# change all NAN to \"Unknown\" \n",
    "collisions[\"ROADCOND\"].fillna(\"Unknown\", inplace=True)\n",
    "unique_values = collisions[\"ROADCOND\"].unique()\n",
    "print(\"Unique values in ROADCOND column:\", unique_values)\n"
   ]
  },
  {
   "cell_type": "code",
   "execution_count": 235,
   "id": "8f79c1a0",
   "metadata": {
    "scrolled": true
   },
   "outputs": [
    {
     "name": "stdout",
     "output_type": "stream",
     "text": [
      "Unique values in LIGHTCOND column: [nan 'Daylight' 'Dark - Street Lights On' 'Dark - Unknown Lighting' 'Dusk'\n",
      " 'Unknown' 'Dark - Street Lights Off' 'Dawn' 'Dark - No Street Lights'\n",
      " 'Other']\n"
     ]
    }
   ],
   "source": [
    "# Sampe process with LIGHTCOND\n",
    "unique_values = collisions[\"LIGHTCOND\"].unique()\n",
    "print(\"Unique values in LIGHTCOND column:\", unique_values)"
   ]
  },
  {
   "cell_type": "code",
   "execution_count": 236,
   "id": "d5ec6c46",
   "metadata": {},
   "outputs": [
    {
     "name": "stdout",
     "output_type": "stream",
     "text": [
      "Unique values in LIGHTCOND column: ['Unknown' 'Daylight' 'Dark - Street Lights On' 'Dark - Unknown Lighting'\n",
      " 'Dusk' 'Dark - Street Lights Off' 'Dawn' 'Dark - No Street Lights'\n",
      " 'Other']\n"
     ]
    }
   ],
   "source": [
    "# change all NAN to \"Unknown\" \n",
    "collisions[\"LIGHTCOND\"].fillna(\"Unknown\", inplace=True)\n",
    "unique_values = collisions[\"LIGHTCOND\"].unique()\n",
    "print(\"Unique values in LIGHTCOND column:\", unique_values)\n"
   ]
  },
  {
   "cell_type": "code",
   "execution_count": 237,
   "id": "a6d1dfd2",
   "metadata": {},
   "outputs": [
    {
     "name": "stdout",
     "output_type": "stream",
     "text": [
      "Unique values in SEVERITYCODE column: ['0' '1' '2' '2b' '3' nan]\n"
     ]
    }
   ],
   "source": [
    "# Sampe process with SEVERITYCODE\n",
    "unique_values = collisions[\"SEVERITYCODE\"].unique()\n",
    "print(\"Unique values in SEVERITYCODE column:\", unique_values)"
   ]
  },
  {
   "cell_type": "code",
   "execution_count": 238,
   "id": "63ba3956",
   "metadata": {},
   "outputs": [
    {
     "name": "stdout",
     "output_type": "stream",
     "text": [
      "Unique values in SEVERITYCODE column: ['0' '1' '2' '2b' '3']\n"
     ]
    }
   ],
   "source": [
    "# change all NAN to \"0\" \n",
    "collisions[\"SEVERITYCODE\"].fillna(\"0\", inplace=True)\n",
    "unique_values = collisions[\"SEVERITYCODE\"].unique()\n",
    "print(\"Unique values in SEVERITYCODE column:\", unique_values)\n"
   ]
  },
  {
   "cell_type": "code",
   "execution_count": 239,
   "id": "693f0685",
   "metadata": {
    "scrolled": true
   },
   "outputs": [
    {
     "name": "stdout",
     "output_type": "stream",
     "text": [
      "Unique values in COLLISIONTYPE column: [nan 'Rear Ended' 'Other' 'Angles' 'Cycles' 'Left Turn' 'Right Turn'\n",
      " 'Sideswipe' 'Pedestrian' 'Parked Car' 'Head On']\n"
     ]
    }
   ],
   "source": [
    "# Sampe process with COLLISIONTYPE\n",
    "unique_values = collisions[\"COLLISIONTYPE\"].unique()\n",
    "print(\"Unique values in COLLISIONTYPE column:\", unique_values)"
   ]
  },
  {
   "cell_type": "code",
   "execution_count": 240,
   "id": "c68a55c7",
   "metadata": {},
   "outputs": [],
   "source": [
    "# Since COLLISIONTYPE is not our concern and it contains NAs, I decided to drop this col\n",
    "collisions.drop(\"COLLISIONTYPE\", axis=1, inplace=True)\n"
   ]
  },
  {
   "cell_type": "code",
   "execution_count": 241,
   "id": "e27f977b",
   "metadata": {},
   "outputs": [],
   "source": [
    "# For X and Y, there are 390 NAs,just get rid of those rows\n",
    "collisions.dropna(subset=[\"X\", \"Y\"], inplace=True)"
   ]
  },
  {
   "cell_type": "code",
   "execution_count": 242,
   "id": "6f64b6ad",
   "metadata": {
    "scrolled": true
   },
   "outputs": [
    {
     "name": "stdout",
     "output_type": "stream",
     "text": [
      "Total Rows: 79439\n",
      "X Rows: 79439 NAs: 0\n",
      "Y Rows: 79439 NAs: 0\n",
      "ADDRTYPE Rows: 79439 NAs: 0\n",
      "SEVERITYCODE Rows: 79439 NAs: 0\n",
      "LIGHTCOND Rows: 79439 NAs: 0\n",
      "ROADCOND Rows: 79439 NAs: 0\n",
      "SPEEDING Rows: 79439 NAs: 0\n",
      "UNDERINFL Rows: 79439 NAs: 0\n",
      "INATTENTIONIND Rows: 79439 NAs: 0\n"
     ]
    }
   ],
   "source": [
    "# take look at the cleaned collisions\n",
    "print(\"Total Rows:\",len(collisions))\n",
    "for column in collisions.columns:\n",
    "    print(column, \"Rows:\", len(collisions[column].dropna()), \"NAs:\", len(collisions[column])-len(collisions[column].dropna()))"
   ]
  },
  {
   "cell_type": "markdown",
   "id": "def6be91",
   "metadata": {},
   "source": [
    "#### traffic_signals"
   ]
  },
  {
   "cell_type": "code",
   "execution_count": 254,
   "id": "19d6086c",
   "metadata": {},
   "outputs": [
    {
     "name": "stdout",
     "output_type": "stream",
     "text": [
      "1134\n"
     ]
    }
   ],
   "source": [
    "# for traffic_signals\n",
    "traffic_signals = copy.deepcopy(traffic_signals_raw)\n",
    "print(len(traffic_signals_raw))"
   ]
  },
  {
   "cell_type": "code",
   "execution_count": 255,
   "id": "2af2388e",
   "metadata": {},
   "outputs": [
    {
     "data": {
      "text/html": [
       "<div>\n",
       "<style scoped>\n",
       "    .dataframe tbody tr th:only-of-type {\n",
       "        vertical-align: middle;\n",
       "    }\n",
       "\n",
       "    .dataframe tbody tr th {\n",
       "        vertical-align: top;\n",
       "    }\n",
       "\n",
       "    .dataframe thead th {\n",
       "        text-align: right;\n",
       "    }\n",
       "</style>\n",
       "<table border=\"1\" class=\"dataframe\">\n",
       "  <thead>\n",
       "    <tr style=\"text-align: right;\">\n",
       "      <th></th>\n",
       "      <th>UNITDESC</th>\n",
       "      <th>SIGNAL_TYPE</th>\n",
       "      <th>COMPTYPE</th>\n",
       "      <th>CONDITION</th>\n",
       "      <th>ARTERIAL_CLASS</th>\n",
       "      <th>INT_SIGNAL_TYPE_CD</th>\n",
       "      <th>PEDSIGNALYN</th>\n",
       "      <th>PEDAUDIODEVICEYN</th>\n",
       "      <th>PP_QUANTITY</th>\n",
       "      <th>PH_QUANTITY</th>\n",
       "      <th>BIKESIGNALHDYN</th>\n",
       "      <th>LTTURNSIGNALYN</th>\n",
       "      <th>RTTURNSIGNALYN</th>\n",
       "      <th>DETDEVSTOPBARYN</th>\n",
       "      <th>DETDEVADVANCEDYN</th>\n",
       "      <th>DETDEVSYSTEMYN</th>\n",
       "      <th>NUM_ATTACHMENTS</th>\n",
       "    </tr>\n",
       "  </thead>\n",
       "  <tbody>\n",
       "    <tr>\n",
       "      <th>0</th>\n",
       "      <td>4TH AVE AND PINE ST                           ...</td>\n",
       "      <td>PRE</td>\n",
       "      <td>74</td>\n",
       "      <td>FAIR</td>\n",
       "      <td>1.0</td>\n",
       "      <td>CITY</td>\n",
       "      <td>N</td>\n",
       "      <td>N</td>\n",
       "      <td>NaN</td>\n",
       "      <td>8</td>\n",
       "      <td>Y</td>\n",
       "      <td>N</td>\n",
       "      <td>N</td>\n",
       "      <td>N</td>\n",
       "      <td>N</td>\n",
       "      <td>N</td>\n",
       "      <td>0</td>\n",
       "    </tr>\n",
       "    <tr>\n",
       "      <th>1</th>\n",
       "      <td>5TH AVE S AND S MAIN ST                       ...</td>\n",
       "      <td>PRE</td>\n",
       "      <td>74</td>\n",
       "      <td>FAIR</td>\n",
       "      <td>2.0</td>\n",
       "      <td>CITY</td>\n",
       "      <td>N</td>\n",
       "      <td>N</td>\n",
       "      <td>0</td>\n",
       "      <td>8</td>\n",
       "      <td>N</td>\n",
       "      <td>N</td>\n",
       "      <td>N</td>\n",
       "      <td>N</td>\n",
       "      <td>N</td>\n",
       "      <td>N</td>\n",
       "      <td>0</td>\n",
       "    </tr>\n",
       "    <tr>\n",
       "      <th>2</th>\n",
       "      <td>23RD AVE AND E ALDER ST                       ...</td>\n",
       "      <td>SEMI</td>\n",
       "      <td>74</td>\n",
       "      <td>POOR</td>\n",
       "      <td>1.0</td>\n",
       "      <td>HALFPED</td>\n",
       "      <td>Y</td>\n",
       "      <td>N</td>\n",
       "      <td>2</td>\n",
       "      <td>2</td>\n",
       "      <td>N</td>\n",
       "      <td>N</td>\n",
       "      <td>N</td>\n",
       "      <td>N</td>\n",
       "      <td>N</td>\n",
       "      <td>N</td>\n",
       "      <td>0</td>\n",
       "    </tr>\n",
       "  </tbody>\n",
       "</table>\n",
       "</div>"
      ],
      "text/plain": [
       "                                            UNITDESC SIGNAL_TYPE  COMPTYPE  \\\n",
       "0  4TH AVE AND PINE ST                           ...         PRE        74   \n",
       "1  5TH AVE S AND S MAIN ST                       ...         PRE        74   \n",
       "2  23RD AVE AND E ALDER ST                       ...        SEMI        74   \n",
       "\n",
       "  CONDITION  ARTERIAL_CLASS INT_SIGNAL_TYPE_CD PEDSIGNALYN PEDAUDIODEVICEYN  \\\n",
       "0      FAIR             1.0               CITY           N                N   \n",
       "1      FAIR             2.0               CITY           N                N   \n",
       "2      POOR             1.0            HALFPED           Y                N   \n",
       "\n",
       "  PP_QUANTITY PH_QUANTITY BIKESIGNALHDYN LTTURNSIGNALYN RTTURNSIGNALYN  \\\n",
       "0         NaN           8              Y              N              N   \n",
       "1           0           8              N              N              N   \n",
       "2           2           2              N              N              N   \n",
       "\n",
       "  DETDEVSTOPBARYN DETDEVADVANCEDYN DETDEVSYSTEMYN  NUM_ATTACHMENTS  \n",
       "0               N                N              N                0  \n",
       "1               N                N              N                0  \n",
       "2               N                N              N                0  "
      ]
     },
     "execution_count": 255,
     "metadata": {},
     "output_type": "execute_result"
    }
   ],
   "source": [
    "traffic_signals = traffic_signals[[\"UNITDESC\",\n",
    "                                   \"SIGNAL_TYPE\",\"COMPTYPE\",\"CONDITION\",\n",
    "                                  \"ARTERIAL_CLASS\",\"INT_SIGNAL_TYPE_CD\",\n",
    "                                  \"PEDSIGNALYN\", 'PEDAUDIODEVICEYN', \n",
    "                                   'PP_QUANTITY', 'PH_QUANTITY', 'BIKESIGNALHDYN',\n",
    "                                    'LTTURNSIGNALYN', 'RTTURNSIGNALYN', \n",
    "                                   'DETDEVSTOPBARYN', 'DETDEVADVANCEDYN', \n",
    "                                   'DETDEVSYSTEMYN',\n",
    "                                    'NUM_ATTACHMENTS']]\n",
    "\n",
    "# rows \n",
    "# UNITDESC: Structured description of the Signal location\n",
    "# COMPTYPE: The type of traffic signal component (e.g., control box, pedestrian signal, etc.).\n",
    "# CONDITION: Condition-based on SDOT’s signal engineer’s assessments (good, fair, poor)\n",
    "# ARTERIAL_CLASS: Arterial classification of the street segment\n",
    "# INT_SIGNAL_TYPE_CD: Intersection signal type code\n",
    "# PEDSIGNALYN: Pedestrian Signal\n",
    "# PEDAUDIODEVICEYN: Existence of Ped Audio Device\n",
    "# PP_QUANTITY: The number of pedestrian pushbuttons at the intersection.\n",
    "# PH_QUANTITY: Quantity of each type of Ped Signal Display at the intersection\n",
    "# BIKESIGNALHDYN: Indicates whether the intersection has a bicycle signal head.\n",
    "# LTTURNSIGNALYN, RTTURNSIGNALYN: Indicates whether the intersection has left-turn and right-turn signal heads, respectively.\n",
    "# DETDEVSTOPBARYN, DETDEVADVANCEDYN, DETDEVSYSTEMYN: These columns may indicate whether the intersection has detection devices for stop bars, advanced detection, and system detection, respectively.\n",
    "# NUM_ATTACHMENTS: The number of attachments (e.g., equipment or devices) associated with the traffic signal infrastructure.\n",
    "\n",
    "traffic_signals.head(3)"
   ]
  },
  {
   "cell_type": "code",
   "execution_count": 256,
   "id": "fdcaa4da",
   "metadata": {},
   "outputs": [
    {
     "name": "stdout",
     "output_type": "stream",
     "text": [
      "Total Rows: 1134\n",
      "UNITDESC Rows: 1134 NAs: 0\n",
      "SIGNAL_TYPE Rows: 1134 NAs: 0\n",
      "COMPTYPE Rows: 1134 NAs: 0\n",
      "CONDITION Rows: 1134 NAs: 0\n",
      "ARTERIAL_CLASS Rows: 1120 NAs: 14\n",
      "INT_SIGNAL_TYPE_CD Rows: 1134 NAs: 0\n",
      "PEDSIGNALYN Rows: 1134 NAs: 0\n",
      "PEDAUDIODEVICEYN Rows: 1134 NAs: 0\n",
      "PP_QUANTITY Rows: 865 NAs: 269\n",
      "PH_QUANTITY Rows: 1013 NAs: 121\n",
      "BIKESIGNALHDYN Rows: 1134 NAs: 0\n",
      "LTTURNSIGNALYN Rows: 1134 NAs: 0\n",
      "RTTURNSIGNALYN Rows: 1134 NAs: 0\n",
      "DETDEVSTOPBARYN Rows: 1134 NAs: 0\n",
      "DETDEVADVANCEDYN Rows: 1134 NAs: 0\n",
      "DETDEVSYSTEMYN Rows: 1134 NAs: 0\n",
      "NUM_ATTACHMENTS Rows: 1134 NAs: 0\n"
     ]
    }
   ],
   "source": [
    "# take look at the traffic_signals\n",
    "print(\"Total Rows:\",len(traffic_signals))\n",
    "for column in traffic_signals.columns:\n",
    "    print(column, \"Rows:\", len(traffic_signals[column].dropna()), \"NAs:\", len(traffic_signals[column])-len(traffic_signals[column].dropna()))\n",
    "    \n",
    "    "
   ]
  },
  {
   "cell_type": "code",
   "execution_count": 257,
   "id": "783fb65e",
   "metadata": {},
   "outputs": [
    {
     "name": "stdout",
     "output_type": "stream",
     "text": [
      "Unique values in ARTERIAL_CLASS column: [ 1.  2. nan  3.  0.  4.]\n"
     ]
    }
   ],
   "source": [
    "# take look into ARTERIAL_CLASS\n",
    "unique_values = traffic_signals[\"ARTERIAL_CLASS\"].unique()\n",
    "print(\"Unique values in ARTERIAL_CLASS column:\", unique_values)"
   ]
  },
  {
   "cell_type": "code",
   "execution_count": 258,
   "id": "735ae100",
   "metadata": {},
   "outputs": [
    {
     "name": "stdout",
     "output_type": "stream",
     "text": [
      "Unique values in ARTERIAL_CLASS column: [1. 2. 0. 3. 4.]\n"
     ]
    }
   ],
   "source": [
    "# change all NAN to \"0\" \n",
    "traffic_signals[\"ARTERIAL_CLASS\"].fillna(0.0, inplace=True)\n",
    "unique_values = traffic_signals[\"ARTERIAL_CLASS\"].unique()\n",
    "print(\"Unique values in ARTERIAL_CLASS column:\", unique_values)"
   ]
  },
  {
   "cell_type": "code",
   "execution_count": 259,
   "id": "62493e2f",
   "metadata": {},
   "outputs": [
    {
     "name": "stdout",
     "output_type": "stream",
     "text": [
      "Unique values in PP_QUANTITY column: [nan '0' '2' '8' '4' '2, 2' '6' '9' '10' '8, 0' '2, 4' '4, 0' '3' '8, 8'\n",
      " '12' '5' '11' '4, 8' '4, 6' '2, 1' '8, 2, 0' '4, 10' '1, 8' '6, 6' '9, 8'\n",
      " '7' '2, 5' '4, 4' '10, 2' '4, 8, 6' '1, 3' '2, 8' '1, 1, 6' '6, 8' '8, 1'\n",
      " '1, 2' '5, 8' '2, 0' '2, 6' '0, 4' '6, 2' '6, 1' '4, 1' '1, 10' '5, 2'\n",
      " '4, 3, 8' '8, 5' '7, 1' '4, 2' '4, 2, 0']\n"
     ]
    }
   ],
   "source": [
    "# take look into ARTERIAL_CLASS\n",
    "unique_values = traffic_signals[\"PP_QUANTITY\"].unique()\n",
    "print(\"Unique values in PP_QUANTITY column:\", unique_values)"
   ]
  },
  {
   "cell_type": "code",
   "execution_count": 261,
   "id": "a097bf06",
   "metadata": {},
   "outputs": [],
   "source": [
    "def convert_string_to_int(value):\n",
    "    if pd.isna(value):\n",
    "        return 0\n",
    "    numbers = value.split(',')\n",
    "    return sum(int(number.strip()) for number in numbers)"
   ]
  },
  {
   "cell_type": "code",
   "execution_count": 262,
   "id": "0952d204",
   "metadata": {},
   "outputs": [
    {
     "name": "stdout",
     "output_type": "stream",
     "text": [
      "Unique values in PP_QUANTITY column: [ 0  2  8  4  6  9 10  3 16 12  5 11 14 17  7 18 13 15]\n"
     ]
    }
   ],
   "source": [
    "traffic_signals[\"PP_QUANTITY\"] = traffic_signals[\"PP_QUANTITY\"].apply(convert_string_to_int)\n",
    "\n",
    "unique_values = traffic_signals[\"PP_QUANTITY\"].unique()\n",
    "print(\"Unique values in PP_QUANTITY column:\", unique_values)"
   ]
  },
  {
   "cell_type": "code",
   "execution_count": 263,
   "id": "8786b593",
   "metadata": {},
   "outputs": [
    {
     "name": "stdout",
     "output_type": "stream",
     "text": [
      "Unique values in PH_QUANTITY column: ['8' '2' '14, 2' '8, 8' '2, 2' nan '16' '6' '4' '14, 1' '15, 1' '12'\n",
      " '10, 10' '18, 2' '10, 2' '6, 6' '6, 6, 6' '13, 2' '7, 1' '19, 4, 1'\n",
      " '9, 2, 1' '11, 2, 3' '11, 5' '14' '24' '12, 2, 2' '8, 4, 4' '13, 3'\n",
      " '10, 1, 1' '8, 4' '20' '10' '9, 7' '4, 2' '25, 3' '6, 8, 2' '8, 2, 10'\n",
      " '12, 12' '8, 0' '15' '13, 1' '3, 1' '4, 4' '6, 2' '7, 8, 1' '11, 1'\n",
      " '18, 6' '14, 1, 1' '4, 12' '12, 4' '6, 1, 1' '10, 6' '17, 4' '3, 4, 1'\n",
      " '9, 5, 2' '8, 8, 8' '1, 2' '5, 3' '7, 5' '9, 3' '5' '4, 4, 4' '8, 5, 3']\n"
     ]
    }
   ],
   "source": [
    "# take look into PH_QUANTITY\n",
    "unique_values = traffic_signals[\"PH_QUANTITY\"].unique()\n",
    "print(\"Unique values in PH_QUANTITY column:\", unique_values)"
   ]
  },
  {
   "cell_type": "code",
   "execution_count": 264,
   "id": "8630409d",
   "metadata": {
    "scrolled": true
   },
   "outputs": [
    {
     "name": "stdout",
     "output_type": "stream",
     "text": [
      "Unique values in PH_QUANTITY column: [ 8  2 16  4  0  6 15 12 20 18 24 14 10 28 21  3  5]\n"
     ]
    }
   ],
   "source": [
    "traffic_signals[\"PH_QUANTITY\"] = traffic_signals[\"PH_QUANTITY\"].apply(convert_string_to_int)\n",
    "\n",
    "unique_values = traffic_signals[\"PH_QUANTITY\"].unique()\n",
    "print(\"Unique values in PH_QUANTITY column:\", unique_values)"
   ]
  },
  {
   "cell_type": "code",
   "execution_count": 265,
   "id": "62a08ea9",
   "metadata": {
    "scrolled": true
   },
   "outputs": [
    {
     "name": "stdout",
     "output_type": "stream",
     "text": [
      "Total Rows: 1134\n",
      "UNITDESC Rows: 1134 NAs: 0\n",
      "SIGNAL_TYPE Rows: 1134 NAs: 0\n",
      "COMPTYPE Rows: 1134 NAs: 0\n",
      "CONDITION Rows: 1134 NAs: 0\n",
      "ARTERIAL_CLASS Rows: 1134 NAs: 0\n",
      "INT_SIGNAL_TYPE_CD Rows: 1134 NAs: 0\n",
      "PEDSIGNALYN Rows: 1134 NAs: 0\n",
      "PEDAUDIODEVICEYN Rows: 1134 NAs: 0\n",
      "PP_QUANTITY Rows: 1134 NAs: 0\n",
      "PH_QUANTITY Rows: 1134 NAs: 0\n",
      "BIKESIGNALHDYN Rows: 1134 NAs: 0\n",
      "LTTURNSIGNALYN Rows: 1134 NAs: 0\n",
      "RTTURNSIGNALYN Rows: 1134 NAs: 0\n",
      "DETDEVSTOPBARYN Rows: 1134 NAs: 0\n",
      "DETDEVADVANCEDYN Rows: 1134 NAs: 0\n",
      "DETDEVSYSTEMYN Rows: 1134 NAs: 0\n",
      "NUM_ATTACHMENTS Rows: 1134 NAs: 0\n"
     ]
    }
   ],
   "source": [
    "# take look at the cleaned traffic_signals\n",
    "print(\"Total Rows:\",len(traffic_signals))\n",
    "for column in traffic_signals.columns:\n",
    "    print(column, \"Rows:\", len(traffic_signals[column].dropna()), \"NAs:\", len(traffic_signals[column])-len(traffic_signals[column].dropna()))\n",
    "    \n",
    "    "
   ]
  },
  {
   "cell_type": "markdown",
   "id": "50b196f0",
   "metadata": {},
   "source": [
    "#### poles"
   ]
  },
  {
   "cell_type": "code",
   "execution_count": 19,
   "id": "1af72be4",
   "metadata": {},
   "outputs": [
    {
     "data": {
      "text/html": [
       "<div>\n",
       "<style scoped>\n",
       "    .dataframe tbody tr th:only-of-type {\n",
       "        vertical-align: middle;\n",
       "    }\n",
       "\n",
       "    .dataframe tbody tr th {\n",
       "        vertical-align: top;\n",
       "    }\n",
       "\n",
       "    .dataframe thead th {\n",
       "        text-align: right;\n",
       "    }\n",
       "</style>\n",
       "<table border=\"1\" class=\"dataframe\">\n",
       "  <thead>\n",
       "    <tr style=\"text-align: right;\">\n",
       "      <th></th>\n",
       "      <th>X</th>\n",
       "      <th>Y</th>\n",
       "      <th>HEIGHT</th>\n",
       "      <th>STREETLIGHT</th>\n",
       "    </tr>\n",
       "  </thead>\n",
       "  <tbody>\n",
       "    <tr>\n",
       "      <th>0</th>\n",
       "      <td>-122.358591</td>\n",
       "      <td>47.628758</td>\n",
       "      <td>19</td>\n",
       "      <td>YES</td>\n",
       "    </tr>\n",
       "    <tr>\n",
       "      <th>1</th>\n",
       "      <td>-122.359814</td>\n",
       "      <td>47.632261</td>\n",
       "      <td>35</td>\n",
       "      <td>NO</td>\n",
       "    </tr>\n",
       "    <tr>\n",
       "      <th>2</th>\n",
       "      <td>-122.363536</td>\n",
       "      <td>47.626674</td>\n",
       "      <td>35</td>\n",
       "      <td>NO</td>\n",
       "    </tr>\n",
       "  </tbody>\n",
       "</table>\n",
       "</div>"
      ],
      "text/plain": [
       "            X          Y  HEIGHT STREETLIGHT\n",
       "0 -122.358591  47.628758      19         YES\n",
       "1 -122.359814  47.632261      35          NO\n",
       "2 -122.363536  47.626674      35          NO"
      ]
     },
     "execution_count": 19,
     "metadata": {},
     "output_type": "execute_result"
    }
   ],
   "source": [
    "poles = copy.deepcopy(poles_raw)\n",
    "\n",
    "poles = poles[[\"X\",\"Y\",\"HEIGHT\",\"STREETLIGHT\"]]\n",
    "\n",
    "poles.head(3)"
   ]
  },
  {
   "cell_type": "code",
   "execution_count": 20,
   "id": "7400e7fb",
   "metadata": {
    "scrolled": true
   },
   "outputs": [
    {
     "name": "stdout",
     "output_type": "stream",
     "text": [
      "Total Rows: 112427\n",
      "X Rows: 112427 NAs: 0\n",
      "Y Rows: 112427 NAs: 0\n",
      "HEIGHT Rows: 112427 NAs: 0\n",
      "STREETLIGHT Rows: 112427 NAs: 0\n"
     ]
    }
   ],
   "source": [
    "# take look at the cleaned poles\n",
    "print(\"Total Rows:\",len(poles))\n",
    "for column in poles.columns:\n",
    "    print(column, \"Rows:\", len(poles[column].dropna()), \"NAs:\", len(poles[column])-len(poles[column].dropna()))\n",
    "    "
   ]
  },
  {
   "cell_type": "markdown",
   "id": "f356ad5d",
   "metadata": {},
   "source": [
    "#### streets"
   ]
  },
  {
   "cell_type": "code",
   "execution_count": 6,
   "id": "1be230d5",
   "metadata": {
    "scrolled": false
   },
   "outputs": [
    {
     "data": {
      "text/html": [
       "<div>\n",
       "<style scoped>\n",
       "    .dataframe tbody tr th:only-of-type {\n",
       "        vertical-align: middle;\n",
       "    }\n",
       "\n",
       "    .dataframe tbody tr th {\n",
       "        vertical-align: top;\n",
       "    }\n",
       "\n",
       "    .dataframe thead th {\n",
       "        text-align: right;\n",
       "    }\n",
       "</style>\n",
       "<table border=\"1\" class=\"dataframe\">\n",
       "  <thead>\n",
       "    <tr style=\"text-align: right;\">\n",
       "      <th></th>\n",
       "      <th>UNITDESC</th>\n",
       "      <th>STNAME_ORD</th>\n",
       "      <th>XSTRLO</th>\n",
       "      <th>XSTRHI</th>\n",
       "      <th>ARTCLASS</th>\n",
       "      <th>SPEEDLIMIT</th>\n",
       "      <th>SURFACETYPE_1</th>\n",
       "      <th>SURFACETYPE_2</th>\n",
       "      <th>PVMTCONDINDX1</th>\n",
       "      <th>PVMTCONDINDX2</th>\n",
       "      <th>TRANCLASS</th>\n",
       "      <th>SLOPE_PCT</th>\n",
       "      <th>SHAPE_Length</th>\n",
       "    </tr>\n",
       "  </thead>\n",
       "  <tbody>\n",
       "    <tr>\n",
       "      <th>0</th>\n",
       "      <td>1ST AVE BETWEEN SENECA ST AND UNIVERSITY ST</td>\n",
       "      <td>1ST AVE</td>\n",
       "      <td>SENECA ST</td>\n",
       "      <td>UNIVERSITY ST</td>\n",
       "      <td>2.0</td>\n",
       "      <td>25.0</td>\n",
       "      <td>PCC</td>\n",
       "      <td>AC/PCC</td>\n",
       "      <td>87.0</td>\n",
       "      <td>62.0</td>\n",
       "      <td>1</td>\n",
       "      <td>4.0</td>\n",
       "      <td>305.966050</td>\n",
       "    </tr>\n",
       "    <tr>\n",
       "      <th>1</th>\n",
       "      <td>1ST AVE BETWEEN PIKE ST AND PINE ST</td>\n",
       "      <td>1ST AVE</td>\n",
       "      <td>PIKE ST</td>\n",
       "      <td>PINE ST</td>\n",
       "      <td>2.0</td>\n",
       "      <td>25.0</td>\n",
       "      <td>AC/PCC</td>\n",
       "      <td>PCC</td>\n",
       "      <td>57.0</td>\n",
       "      <td>58.0</td>\n",
       "      <td>1</td>\n",
       "      <td>5.0</td>\n",
       "      <td>426.031562</td>\n",
       "    </tr>\n",
       "    <tr>\n",
       "      <th>2</th>\n",
       "      <td>1ST AVE N BETWEEN VALLEY UPPER ST AND ALOHA ST</td>\n",
       "      <td>1ST AVE N</td>\n",
       "      <td>VALLEY UPPER ST</td>\n",
       "      <td>ALOHA ST</td>\n",
       "      <td>0.0</td>\n",
       "      <td>20.0</td>\n",
       "      <td>PCC</td>\n",
       "      <td>NaN</td>\n",
       "      <td>0.0</td>\n",
       "      <td>0.0</td>\n",
       "      <td>0</td>\n",
       "      <td>17.0</td>\n",
       "      <td>297.147592</td>\n",
       "    </tr>\n",
       "    <tr>\n",
       "      <th>3</th>\n",
       "      <td>1ST AVE N BETWEEN LYNN ST AND MCGRAW S ST</td>\n",
       "      <td>1ST AVE N</td>\n",
       "      <td>LYNN ST</td>\n",
       "      <td>MCGRAW S ST</td>\n",
       "      <td>0.0</td>\n",
       "      <td>20.0</td>\n",
       "      <td>AC</td>\n",
       "      <td>NaN</td>\n",
       "      <td>9.0</td>\n",
       "      <td>0.0</td>\n",
       "      <td>0</td>\n",
       "      <td>3.0</td>\n",
       "      <td>174.804983</td>\n",
       "    </tr>\n",
       "    <tr>\n",
       "      <th>4</th>\n",
       "      <td>1ST AVE N BETWEEN FULTON S ST AND FULTON N ST</td>\n",
       "      <td>1ST AVE N</td>\n",
       "      <td>FULTON S ST</td>\n",
       "      <td>FULTON N ST</td>\n",
       "      <td>0.0</td>\n",
       "      <td>20.0</td>\n",
       "      <td>PCC</td>\n",
       "      <td>NaN</td>\n",
       "      <td>0.0</td>\n",
       "      <td>0.0</td>\n",
       "      <td>0</td>\n",
       "      <td>5.0</td>\n",
       "      <td>73.110708</td>\n",
       "    </tr>\n",
       "  </tbody>\n",
       "</table>\n",
       "</div>"
      ],
      "text/plain": [
       "                                         UNITDESC STNAME_ORD           XSTRLO  \\\n",
       "0     1ST AVE BETWEEN SENECA ST AND UNIVERSITY ST    1ST AVE        SENECA ST   \n",
       "1             1ST AVE BETWEEN PIKE ST AND PINE ST    1ST AVE          PIKE ST   \n",
       "2  1ST AVE N BETWEEN VALLEY UPPER ST AND ALOHA ST  1ST AVE N  VALLEY UPPER ST   \n",
       "3       1ST AVE N BETWEEN LYNN ST AND MCGRAW S ST  1ST AVE N          LYNN ST   \n",
       "4   1ST AVE N BETWEEN FULTON S ST AND FULTON N ST  1ST AVE N      FULTON S ST   \n",
       "\n",
       "          XSTRHI  ARTCLASS  SPEEDLIMIT SURFACETYPE_1 SURFACETYPE_2  \\\n",
       "0  UNIVERSITY ST       2.0        25.0           PCC        AC/PCC   \n",
       "1        PINE ST       2.0        25.0        AC/PCC           PCC   \n",
       "2       ALOHA ST       0.0        20.0           PCC           NaN   \n",
       "3    MCGRAW S ST       0.0        20.0            AC           NaN   \n",
       "4    FULTON N ST       0.0        20.0           PCC           NaN   \n",
       "\n",
       "   PVMTCONDINDX1  PVMTCONDINDX2  TRANCLASS  SLOPE_PCT  SHAPE_Length  \n",
       "0           87.0           62.0          1        4.0    305.966050  \n",
       "1           57.0           58.0          1        5.0    426.031562  \n",
       "2            0.0            0.0          0       17.0    297.147592  \n",
       "3            9.0            0.0          0        3.0    174.804983  \n",
       "4            0.0            0.0          0        5.0     73.110708  "
      ]
     },
     "execution_count": 6,
     "metadata": {},
     "output_type": "execute_result"
    }
   ],
   "source": [
    "streets = copy.deepcopy(streets_raw)\n",
    "\n",
    "streets = streets[[\"UNITDESC\",\"STNAME_ORD\",\"XSTRLO\",\"XSTRHI\",\"ARTCLASS\",\"SPEEDLIMIT\",\"SURFACETYPE_1\",\"SURFACETYPE_2\",\n",
    "                   \"PVMTCONDINDX1\",\"PVMTCONDINDX2\",\"TRANCLASS\",\"SLOPE_PCT\",\"SHAPE_Length\"]]\n",
    "\n",
    "#SURFACETYPE_1: Primary pavement used on Street surface\n",
    "#SURFACETYPE_2: Secondary pavement used on Street surface\n",
    "#NATIONHWYSYS: Whether the street is part of the National Highway System (Y/N)\n",
    "#PVMTCONDINDX1: Primary pavement condition, out of 100\n",
    "#PVMTCONDINDX2: Secondary pavement condition, out of 100\n",
    "#TRANCLASS: Street transit classification\n",
    "#SLOPE_PCT: Street grade in slope percentage\n",
    "#SHAPE_Length: ESRI field that stores information about the length of a feature in GIS \n",
    "streets.head(5)"
   ]
  },
  {
   "cell_type": "code",
   "execution_count": 7,
   "id": "c1ed04b6",
   "metadata": {
    "scrolled": false
   },
   "outputs": [
    {
     "name": "stdout",
     "output_type": "stream",
     "text": [
      "Total Rows: 23853\n",
      "UNITDESC Rows: 23848 NAs: 5\n",
      "STNAME_ORD Rows: 23853 NAs: 0\n",
      "XSTRLO Rows: 23848 NAs: 5\n",
      "XSTRHI Rows: 23848 NAs: 5\n",
      "ARTCLASS Rows: 23848 NAs: 5\n",
      "SPEEDLIMIT Rows: 23837 NAs: 16\n",
      "SURFACETYPE_1 Rows: 22586 NAs: 1267\n",
      "SURFACETYPE_2 Rows: 682 NAs: 23171\n",
      "PVMTCONDINDX1 Rows: 23848 NAs: 5\n",
      "PVMTCONDINDX2 Rows: 23848 NAs: 5\n",
      "TRANCLASS Rows: 23853 NAs: 0\n",
      "SLOPE_PCT Rows: 23757 NAs: 96\n",
      "SHAPE_Length Rows: 23853 NAs: 0\n"
     ]
    }
   ],
   "source": [
    "# take look at the streets\n",
    "print(\"Total Rows:\",len(streets))\n",
    "for column in streets.columns:\n",
    "    print(column, \"Rows:\", len(streets[column].dropna()), \"NAs:\", len(streets[column])-len(streets[column].dropna()))\n",
    "    \n",
    "    "
   ]
  },
  {
   "cell_type": "code",
   "execution_count": 8,
   "id": "8f66a2c9",
   "metadata": {},
   "outputs": [],
   "source": [
    "#Need UNITDESC to join, so delete rows do not have this\n",
    "streets.dropna(subset=[\"UNITDESC\"], inplace=True)\n"
   ]
  },
  {
   "cell_type": "code",
   "execution_count": 9,
   "id": "92573256",
   "metadata": {},
   "outputs": [
    {
     "name": "stdout",
     "output_type": "stream",
     "text": [
      "Total Rows: 23848\n",
      "UNITDESC Rows: 23848 NAs: 0\n",
      "STNAME_ORD Rows: 23848 NAs: 0\n",
      "XSTRLO Rows: 23848 NAs: 0\n",
      "XSTRHI Rows: 23848 NAs: 0\n",
      "ARTCLASS Rows: 23848 NAs: 0\n",
      "SPEEDLIMIT Rows: 23837 NAs: 11\n",
      "SURFACETYPE_1 Rows: 22586 NAs: 1262\n",
      "SURFACETYPE_2 Rows: 682 NAs: 23166\n",
      "PVMTCONDINDX1 Rows: 23848 NAs: 0\n",
      "PVMTCONDINDX2 Rows: 23848 NAs: 0\n",
      "TRANCLASS Rows: 23848 NAs: 0\n",
      "SLOPE_PCT Rows: 23752 NAs: 96\n",
      "SHAPE_Length Rows: 23848 NAs: 0\n"
     ]
    }
   ],
   "source": [
    "# take look at the streets\n",
    "print(\"Total Rows:\",len(streets))\n",
    "for column in streets.columns:\n",
    "    print(column, \"Rows:\", len(streets[column].dropna()), \"NAs:\", len(streets[column])-len(streets[column].dropna()))\n",
    "    \n",
    "    "
   ]
  },
  {
   "cell_type": "code",
   "execution_count": 10,
   "id": "ac775834",
   "metadata": {
    "scrolled": true
   },
   "outputs": [
    {
     "name": "stdout",
     "output_type": "stream",
     "text": [
      "Unique values in SPEEDLIMIT column: [25. 20. 30. 60. 40. 35. 50.  0. nan 45. 55.]\n"
     ]
    }
   ],
   "source": [
    "# take look into SPEEDLIMIT\n",
    "unique_values = streets[\"SPEEDLIMIT\"].unique()\n",
    "print(\"Unique values in SPEEDLIMIT column:\", unique_values)"
   ]
  },
  {
   "cell_type": "code",
   "execution_count": 11,
   "id": "32559d74",
   "metadata": {},
   "outputs": [],
   "source": [
    "# drop all roads with SPEEDLIMIT == 0 and nan\n",
    "streets = streets[(streets[\"SPEEDLIMIT\"] != 0) & (streets[\"SPEEDLIMIT\"].notna())]\n"
   ]
  },
  {
   "cell_type": "code",
   "execution_count": 12,
   "id": "b4208e9f",
   "metadata": {},
   "outputs": [
    {
     "name": "stdout",
     "output_type": "stream",
     "text": [
      "Total Rows: 23743\n",
      "UNITDESC Rows: 23743 NAs: 0\n",
      "STNAME_ORD Rows: 23743 NAs: 0\n",
      "XSTRLO Rows: 23743 NAs: 0\n",
      "XSTRHI Rows: 23743 NAs: 0\n",
      "ARTCLASS Rows: 23743 NAs: 0\n",
      "SPEEDLIMIT Rows: 23743 NAs: 0\n",
      "SURFACETYPE_1 Rows: 22583 NAs: 1160\n",
      "SURFACETYPE_2 Rows: 682 NAs: 23061\n",
      "PVMTCONDINDX1 Rows: 23743 NAs: 0\n",
      "PVMTCONDINDX2 Rows: 23743 NAs: 0\n",
      "TRANCLASS Rows: 23743 NAs: 0\n",
      "SLOPE_PCT Rows: 23721 NAs: 22\n",
      "SHAPE_Length Rows: 23743 NAs: 0\n"
     ]
    }
   ],
   "source": [
    "# take look at the streets\n",
    "print(\"Total Rows:\",len(streets))\n",
    "for column in streets.columns:\n",
    "    print(column, \"Rows:\", len(streets[column].dropna()), \"NAs:\", len(streets[column])-len(streets[column].dropna()))\n",
    "    \n",
    "    "
   ]
  },
  {
   "cell_type": "code",
   "execution_count": 13,
   "id": "cd57ce58",
   "metadata": {
    "scrolled": true
   },
   "outputs": [
    {
     "name": "stdout",
     "output_type": "stream",
     "text": [
      "Unique values in SURFACETYPE_1 column: ['PCC' 'AC/PCC' 'AC' 'ST' 'AC/AC' nan 'GRAVEL']\n"
     ]
    }
   ],
   "source": [
    "# look into SURFACETYPE_1\n",
    "unique_values = streets[\"SURFACETYPE_1\"].unique()\n",
    "print(\"Unique values in SURFACETYPE_1 column:\", unique_values)"
   ]
  },
  {
   "cell_type": "code",
   "execution_count": 14,
   "id": "00272b4d",
   "metadata": {
    "scrolled": true
   },
   "outputs": [
    {
     "name": "stdout",
     "output_type": "stream",
     "text": [
      "Unique values in SURFACETYPE_1 column: ['PCC' 'AC/PCC' 'AC' 'ST' 'AC/AC' 'unknown' 'GRAVEL']\n"
     ]
    }
   ],
   "source": [
    "# replace nan with \"unknown\"\n",
    "streets[\"SURFACETYPE_1\"].fillna(\"unknown\", inplace=True)\n",
    "# drop the colunm of SURFACETYPE_2 since low volunm\n",
    "streets.drop(\"SURFACETYPE_2\", axis=1, inplace=True)\n",
    "\n",
    "unique_values = streets[\"SURFACETYPE_1\"].unique()\n",
    "print(\"Unique values in SURFACETYPE_1 column:\", unique_values)"
   ]
  },
  {
   "cell_type": "code",
   "execution_count": 15,
   "id": "2a3c84c6",
   "metadata": {},
   "outputs": [
    {
     "name": "stdout",
     "output_type": "stream",
     "text": [
      "Unique values in SLOPE_PCT column: [ 4.  5. 17.  3.  2.  0.  1.  6. 10.  7.  8.  9. 13. 11. 15. 14. 12. 16.\n",
      " 24. 18. 21. 19. 20. 22. nan 25. 32. 23. 35. 33. 27. 38. 34. 47. 29.]\n"
     ]
    }
   ],
   "source": [
    "# look into SLOPE_PCT\n",
    "unique_values = streets[\"SLOPE_PCT\"].unique()\n",
    "print(\"Unique values in SLOPE_PCT column:\", unique_values)"
   ]
  },
  {
   "cell_type": "code",
   "execution_count": 16,
   "id": "d56f657f",
   "metadata": {},
   "outputs": [],
   "source": [
    "#just drop the nan slopes\n",
    "streets.dropna(subset=[\"SLOPE_PCT\"], inplace=True)\n"
   ]
  },
  {
   "cell_type": "code",
   "execution_count": 17,
   "id": "4dc39e60",
   "metadata": {
    "scrolled": true
   },
   "outputs": [
    {
     "name": "stdout",
     "output_type": "stream",
     "text": [
      "Total Rows: 23721\n",
      "UNITDESC Rows: 23721 NAs: 0\n",
      "STNAME_ORD Rows: 23721 NAs: 0\n",
      "XSTRLO Rows: 23721 NAs: 0\n",
      "XSTRHI Rows: 23721 NAs: 0\n",
      "ARTCLASS Rows: 23721 NAs: 0\n",
      "SPEEDLIMIT Rows: 23721 NAs: 0\n",
      "SURFACETYPE_1 Rows: 23721 NAs: 0\n",
      "PVMTCONDINDX1 Rows: 23721 NAs: 0\n",
      "PVMTCONDINDX2 Rows: 23721 NAs: 0\n",
      "TRANCLASS Rows: 23721 NAs: 0\n",
      "SLOPE_PCT Rows: 23721 NAs: 0\n",
      "SHAPE_Length Rows: 23721 NAs: 0\n"
     ]
    }
   ],
   "source": [
    "# take look at the streets\n",
    "print(\"Total Rows:\",len(streets))\n",
    "for column in streets.columns:\n",
    "    print(column, \"Rows:\", len(streets[column].dropna()), \"NAs:\", len(streets[column])-len(streets[column].dropna()))\n",
    "    "
   ]
  },
  {
   "cell_type": "markdown",
   "id": "72cb4d99",
   "metadata": {},
   "source": [
    "### Clean stree signs"
   ]
  },
  {
   "cell_type": "code",
   "execution_count": null,
   "id": "b35753c7",
   "metadata": {},
   "outputs": [],
   "source": [
    "# for collisions\n",
    "# Select useful columns\n",
    "signs = copy.deepcopy(signs_raw)\n",
    "signs = collisions[[\"X\", \"Y\",\"ADDRTYPE\",\"COLLISIONTYPE\",\"SEVERITYCODE\",\n",
    "                         \"LIGHTCOND\",\"ROADCOND\",\n",
    "                         \"SPEEDING\",\"UNDERINFL\",\"INATTENTIONIND\"]]\n",
    "collisions.head(3)\n"
   ]
  },
  {
   "cell_type": "code",
   "execution_count": 18,
   "id": "8fbe3179",
   "metadata": {},
   "outputs": [],
   "source": [
    "streets.to_csv(\"CleanedData/streets_cleaned.csv\")"
   ]
  },
  {
   "cell_type": "code",
   "execution_count": 21,
   "id": "685339c2",
   "metadata": {},
   "outputs": [],
   "source": [
    "poles.to_csv(\"CleanedData/poles_cleaned.csv\")"
   ]
  },
  {
   "cell_type": "code",
   "execution_count": null,
   "id": "aa276b46",
   "metadata": {},
   "outputs": [],
   "source": [
    "collisions.to_csv(\"CleanedData/collisions_cleaned.csv.csv\")"
   ]
  },
  {
   "cell_type": "code",
   "execution_count": null,
   "id": "ebb5182a",
   "metadata": {},
   "outputs": [],
   "source": [
    "traffic_signals.to_csv(\"CleanedData/traffic_signals_cleaned.csv\")"
   ]
  },
  {
   "cell_type": "code",
   "execution_count": null,
   "id": "563c3a1f",
   "metadata": {},
   "outputs": [],
   "source": [
    "intersections.to_csv(\"CleanedData/intersections_cleaned.csv\")"
   ]
  },
  {
   "cell_type": "code",
   "execution_count": null,
   "id": "780ac56e",
   "metadata": {},
   "outputs": [],
   "source": [
    "signs.to_csv(\"CleanedData/signs_cleaned.csv\")"
   ]
  }
 ],
 "metadata": {
  "kernelspec": {
   "display_name": "Python 3 (ipykernel)",
   "language": "python",
   "name": "python3"
  },
  "language_info": {
   "codemirror_mode": {
    "name": "ipython",
    "version": 3
   },
   "file_extension": ".py",
   "mimetype": "text/x-python",
   "name": "python",
   "nbconvert_exporter": "python",
   "pygments_lexer": "ipython3",
   "version": "3.10.0"
  }
 },
 "nbformat": 4,
 "nbformat_minor": 5
}
